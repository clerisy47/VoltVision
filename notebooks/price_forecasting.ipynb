{
 "cells": [
  {
   "cell_type": "markdown",
   "metadata": {},
   "source": [
    "# Price Forecasting: Time Series Analysis and Model Training\n"
   ]
  },
  {
   "cell_type": "markdown",
   "metadata": {
    "jp-MarkdownHeadingCollapsed": true
   },
   "source": [
    "### 1. Problem Statement\n",
    "The energy industry is undergoing a transformative journey, marked by rapid modernization and technological advancements. Infrastructure upgrades, integration of intermittent renewable energy sources, and evolving consumer demands are reshaping the sector. However, this progress comes with its challenges. Supply, demand, and prices are increasingly volatile, rendering the future less predictable. Moreover, the industry's traditional business models are being fundamentally challenged. In this competitive and dynamic landscape, accurate decision-making is pivotal. The industry relies heavily on probabilistic forecasts to navigate this uncertain future, making innovative and precise forecasting methods essential that aids stakeholders in making strategic decisions amidst the shifting energy landscape. "
   ]
  },
  {
   "cell_type": "markdown",
   "metadata": {},
   "source": [
    "### 2. Data Ingestion"
   ]
  },
  {
   "cell_type": "markdown",
   "metadata": {},
   "source": [
    "#### 2.1 Import Data and Required Packages\n",
    "Importing Pandas, Numpy, Matplotlib,Scipy and Seaborn"
   ]
  },
  {
   "cell_type": "code",
   "execution_count": 4,
   "metadata": {},
   "outputs": [],
   "source": [
    "import numpy as np\n",
    "import pandas as pd\n",
    "import seaborn as sns\n",
    "import scipy\n",
    "import matplotlib.pyplot as plt\n",
    "%matplotlib inline"
   ]
  },
  {
   "cell_type": "markdown",
   "metadata": {},
   "source": [
    "#### 2.2 Import the CSV Data as Pandas DataFrame"
   ]
  },
  {
   "cell_type": "code",
   "execution_count": 5,
   "metadata": {},
   "outputs": [],
   "source": [
    "df_price = pd.read_csv('../dataset/Price forecasting/Price Forecasting data upto December 24.csv', sep=',')"
   ]
  },
  {
   "cell_type": "markdown",
   "metadata": {},
   "source": [
    "### 3. Data Preprocessing"
   ]
  },
  {
   "cell_type": "markdown",
   "metadata": {},
   "source": [
    "#### 3.1 Show top 5 records\n"
   ]
  },
  {
   "cell_type": "code",
   "execution_count": 6,
   "metadata": {},
   "outputs": [
    {
     "data": {
      "text/html": [
       "<div>\n",
       "<style scoped>\n",
       "    .dataframe tbody tr th:only-of-type {\n",
       "        vertical-align: middle;\n",
       "    }\n",
       "\n",
       "    .dataframe tbody tr th {\n",
       "        vertical-align: top;\n",
       "    }\n",
       "\n",
       "    .dataframe thead th {\n",
       "        text-align: right;\n",
       "    }\n",
       "</style>\n",
       "<table border=\"1\" class=\"dataframe\">\n",
       "  <thead>\n",
       "    <tr style=\"text-align: right;\">\n",
       "      <th></th>\n",
       "      <th>Delivery Day</th>\n",
       "      <th>Hours</th>\n",
       "      <th>Prices\\n(EUR/MWh)</th>\n",
       "    </tr>\n",
       "  </thead>\n",
       "  <tbody>\n",
       "    <tr>\n",
       "      <th>0</th>\n",
       "      <td>1/1/2020</td>\n",
       "      <td>H1</td>\n",
       "      <td>26.38</td>\n",
       "    </tr>\n",
       "    <tr>\n",
       "      <th>1</th>\n",
       "      <td>1/1/2020</td>\n",
       "      <td>H2</td>\n",
       "      <td>26.50</td>\n",
       "    </tr>\n",
       "    <tr>\n",
       "      <th>2</th>\n",
       "      <td>1/1/2020</td>\n",
       "      <td>H3</td>\n",
       "      <td>27.01</td>\n",
       "    </tr>\n",
       "    <tr>\n",
       "      <th>3</th>\n",
       "      <td>1/1/2020</td>\n",
       "      <td>H4</td>\n",
       "      <td>27.40</td>\n",
       "    </tr>\n",
       "    <tr>\n",
       "      <th>4</th>\n",
       "      <td>1/1/2020</td>\n",
       "      <td>H5</td>\n",
       "      <td>27.99</td>\n",
       "    </tr>\n",
       "  </tbody>\n",
       "</table>\n",
       "</div>"
      ],
      "text/plain": [
       "  Delivery Day Hours  Prices\\n(EUR/MWh)\n",
       "0     1/1/2020    H1              26.38\n",
       "1     1/1/2020    H2              26.50\n",
       "2     1/1/2020    H3              27.01\n",
       "3     1/1/2020    H4              27.40\n",
       "4     1/1/2020    H5              27.99"
      ]
     },
     "execution_count": 6,
     "metadata": {},
     "output_type": "execute_result"
    }
   ],
   "source": [
    "df_price.head()"
   ]
  },
  {
   "cell_type": "markdown",
   "metadata": {},
   "source": [
    "#### 3.2 Shape of Dataset\n"
   ]
  },
  {
   "cell_type": "code",
   "execution_count": 7,
   "metadata": {},
   "outputs": [
    {
     "data": {
      "text/plain": [
       "(35352, 3)"
      ]
     },
     "execution_count": 7,
     "metadata": {},
     "output_type": "execute_result"
    }
   ],
   "source": [
    "df_price.shape"
   ]
  },
  {
   "cell_type": "markdown",
   "metadata": {},
   "source": [
    "#### 3.3 Dataset Information\n",
    "<li>Delivery Day: Represents date</li>\n",
    "<li>Hours: Represents Specific Hour of Day</li>\n",
    "<li>Prices\\n(Eur/MWh): Represents price of electricity in Euro per megawatt of electricity</li>"
   ]
  },
  {
   "cell_type": "markdown",
   "metadata": {},
   "source": [
    "#### 3.4 Descriptive Statistics"
   ]
  },
  {
   "cell_type": "code",
   "execution_count": 8,
   "metadata": {},
   "outputs": [
    {
     "data": {
      "text/html": [
       "<div>\n",
       "<style scoped>\n",
       "    .dataframe tbody tr th:only-of-type {\n",
       "        vertical-align: middle;\n",
       "    }\n",
       "\n",
       "    .dataframe tbody tr th {\n",
       "        vertical-align: top;\n",
       "    }\n",
       "\n",
       "    .dataframe thead th {\n",
       "        text-align: right;\n",
       "    }\n",
       "</style>\n",
       "<table border=\"1\" class=\"dataframe\">\n",
       "  <thead>\n",
       "    <tr style=\"text-align: right;\">\n",
       "      <th></th>\n",
       "      <th>Prices\\n(EUR/MWh)</th>\n",
       "    </tr>\n",
       "  </thead>\n",
       "  <tbody>\n",
       "    <tr>\n",
       "      <th>count</th>\n",
       "      <td>34896.000000</td>\n",
       "    </tr>\n",
       "    <tr>\n",
       "      <th>mean</th>\n",
       "      <td>132.958000</td>\n",
       "    </tr>\n",
       "    <tr>\n",
       "      <th>std</th>\n",
       "      <td>120.249844</td>\n",
       "    </tr>\n",
       "    <tr>\n",
       "      <th>min</th>\n",
       "      <td>-35.000000</td>\n",
       "    </tr>\n",
       "    <tr>\n",
       "      <th>25%</th>\n",
       "      <td>47.987500</td>\n",
       "    </tr>\n",
       "    <tr>\n",
       "      <th>50%</th>\n",
       "      <td>95.440000</td>\n",
       "    </tr>\n",
       "    <tr>\n",
       "      <th>75%</th>\n",
       "      <td>179.237500</td>\n",
       "    </tr>\n",
       "    <tr>\n",
       "      <th>max</th>\n",
       "      <td>1047.100000</td>\n",
       "    </tr>\n",
       "  </tbody>\n",
       "</table>\n",
       "</div>"
      ],
      "text/plain": [
       "       Prices\\n(EUR/MWh)\n",
       "count       34896.000000\n",
       "mean          132.958000\n",
       "std           120.249844\n",
       "min           -35.000000\n",
       "25%            47.987500\n",
       "50%            95.440000\n",
       "75%           179.237500\n",
       "max          1047.100000"
      ]
     },
     "execution_count": 8,
     "metadata": {},
     "output_type": "execute_result"
    }
   ],
   "source": [
    "df_price.describe()"
   ]
  },
  {
   "cell_type": "markdown",
   "metadata": {},
   "source": [
    "#### 3.5 Dealing with missing values\n"
   ]
  },
  {
   "cell_type": "markdown",
   "metadata": {},
   "source": [
    "Checking NaN values"
   ]
  },
  {
   "cell_type": "code",
   "execution_count": 9,
   "metadata": {},
   "outputs": [
    {
     "data": {
      "text/plain": [
       "Delivery Day         456\n",
       "Hours                456\n",
       "Prices\\n(EUR/MWh)    456\n",
       "dtype: int64"
      ]
     },
     "execution_count": 9,
     "metadata": {},
     "output_type": "execute_result"
    }
   ],
   "source": [
    "df_price.isna().sum()"
   ]
  },
  {
   "cell_type": "markdown",
   "metadata": {},
   "source": [
    "Dropping rows having values NaN"
   ]
  },
  {
   "cell_type": "code",
   "execution_count": 10,
   "metadata": {},
   "outputs": [
    {
     "data": {
      "text/plain": [
       "Delivery Day         0\n",
       "Hours                0\n",
       "Prices\\n(EUR/MWh)    0\n",
       "dtype: int64"
      ]
     },
     "execution_count": 10,
     "metadata": {},
     "output_type": "execute_result"
    }
   ],
   "source": [
    "df_price.dropna(how='all', inplace=True)\n",
    "df_price.isna().sum()"
   ]
  },
  {
   "cell_type": "markdown",
   "metadata": {},
   "source": [
    "#### 3.6 Dealing with Inconsistent Datas"
   ]
  },
  {
   "cell_type": "markdown",
   "metadata": {},
   "source": [
    "<p>From descriptive statistics analysis, minimum value of price is found to be negative which concludes there are some negative values of price which makes no sense.</p>"
   ]
  },
  {
   "cell_type": "markdown",
   "metadata": {},
   "source": [
    "<li>Checking For Negative or Zero Prices</li>"
   ]
  },
  {
   "cell_type": "code",
   "execution_count": 11,
   "metadata": {},
   "outputs": [
    {
     "data": {
      "text/html": [
       "<div>\n",
       "<style scoped>\n",
       "    .dataframe tbody tr th:only-of-type {\n",
       "        vertical-align: middle;\n",
       "    }\n",
       "\n",
       "    .dataframe tbody tr th {\n",
       "        vertical-align: top;\n",
       "    }\n",
       "\n",
       "    .dataframe thead th {\n",
       "        text-align: right;\n",
       "    }\n",
       "</style>\n",
       "<table border=\"1\" class=\"dataframe\">\n",
       "  <thead>\n",
       "    <tr style=\"text-align: right;\">\n",
       "      <th></th>\n",
       "      <th>Delivery Day</th>\n",
       "      <th>Hours</th>\n",
       "      <th>Prices\\n(EUR/MWh)</th>\n",
       "    </tr>\n",
       "  </thead>\n",
       "  <tbody>\n",
       "    <tr>\n",
       "      <th>1229</th>\n",
       "      <td>2/21/2020</td>\n",
       "      <td>H6</td>\n",
       "      <td>0.00</td>\n",
       "    </tr>\n",
       "    <tr>\n",
       "      <th>1230</th>\n",
       "      <td>2/21/2020</td>\n",
       "      <td>H7</td>\n",
       "      <td>0.00</td>\n",
       "    </tr>\n",
       "    <tr>\n",
       "      <th>1231</th>\n",
       "      <td>2/21/2020</td>\n",
       "      <td>H8</td>\n",
       "      <td>0.00</td>\n",
       "    </tr>\n",
       "    <tr>\n",
       "      <th>1232</th>\n",
       "      <td>2/21/2020</td>\n",
       "      <td>H9</td>\n",
       "      <td>0.00</td>\n",
       "    </tr>\n",
       "    <tr>\n",
       "      <th>1233</th>\n",
       "      <td>2/21/2020</td>\n",
       "      <td>H10</td>\n",
       "      <td>-5.00</td>\n",
       "    </tr>\n",
       "    <tr>\n",
       "      <th>...</th>\n",
       "      <td>...</td>\n",
       "      <td>...</td>\n",
       "      <td>...</td>\n",
       "    </tr>\n",
       "    <tr>\n",
       "      <th>34453</th>\n",
       "      <td>12/6/2023</td>\n",
       "      <td>H14</td>\n",
       "      <td>-21.44</td>\n",
       "    </tr>\n",
       "    <tr>\n",
       "      <th>34454</th>\n",
       "      <td>12/6/2023</td>\n",
       "      <td>H15</td>\n",
       "      <td>-22.58</td>\n",
       "    </tr>\n",
       "    <tr>\n",
       "      <th>34455</th>\n",
       "      <td>12/6/2023</td>\n",
       "      <td>H16</td>\n",
       "      <td>-18.47</td>\n",
       "    </tr>\n",
       "    <tr>\n",
       "      <th>34456</th>\n",
       "      <td>12/6/2023</td>\n",
       "      <td>H17</td>\n",
       "      <td>-5.72</td>\n",
       "    </tr>\n",
       "    <tr>\n",
       "      <th>34694</th>\n",
       "      <td>12/16/2023</td>\n",
       "      <td>H15</td>\n",
       "      <td>-0.19</td>\n",
       "    </tr>\n",
       "  </tbody>\n",
       "</table>\n",
       "<p>112 rows × 3 columns</p>\n",
       "</div>"
      ],
      "text/plain": [
       "      Delivery Day Hours  Prices\\n(EUR/MWh)\n",
       "1229     2/21/2020    H6               0.00\n",
       "1230     2/21/2020    H7               0.00\n",
       "1231     2/21/2020    H8               0.00\n",
       "1232     2/21/2020    H9               0.00\n",
       "1233     2/21/2020   H10              -5.00\n",
       "...            ...   ...                ...\n",
       "34453    12/6/2023   H14             -21.44\n",
       "34454    12/6/2023   H15             -22.58\n",
       "34455    12/6/2023   H16             -18.47\n",
       "34456    12/6/2023   H17              -5.72\n",
       "34694   12/16/2023   H15              -0.19\n",
       "\n",
       "[112 rows x 3 columns]"
      ]
     },
     "execution_count": 11,
     "metadata": {},
     "output_type": "execute_result"
    }
   ],
   "source": [
    "df_price[df_price['Prices\\n(EUR/MWh)']<=0]"
   ]
  },
  {
   "cell_type": "markdown",
   "metadata": {},
   "source": [
    "<li>Replacing Negative or Zero Prices with NaN</li>"
   ]
  },
  {
   "cell_type": "code",
   "execution_count": 12,
   "metadata": {},
   "outputs": [],
   "source": [
    "mask = df_price['Prices\\n(EUR/MWh)'] <= 0\n",
    "df_price.loc[mask, 'Prices\\n(EUR/MWh)'] = np.nan"
   ]
  },
  {
   "cell_type": "markdown",
   "metadata": {},
   "source": [
    "<li>Using linear interpolation to fill NaN Values</li>"
   ]
  },
  {
   "cell_type": "code",
   "execution_count": 13,
   "metadata": {},
   "outputs": [],
   "source": [
    "df_price['Prices\\n(EUR/MWh)'].interpolate(inplace=True)"
   ]
  },
  {
   "cell_type": "markdown",
   "metadata": {},
   "source": [
    "#### 3.7 Removing Outliers"
   ]
  },
  {
   "cell_type": "code",
   "execution_count": 14,
   "metadata": {},
   "outputs": [],
   "source": [
    "zscore = scipy.stats.zscore(df_price['Prices\\n(EUR/MWh)'])\n",
    "df_price = df_price[abs(zscore)<5]"
   ]
  },
  {
   "cell_type": "markdown",
   "metadata": {},
   "source": [
    "### 4. Data Preprocessing and Data Visualization"
   ]
  },
  {
   "cell_type": "markdown",
   "metadata": {},
   "source": [
    "#### 4.1 Datetime Parsing"
   ]
  },
  {
   "cell_type": "markdown",
   "metadata": {},
   "source": [
    "<li>Merging Delivery day and Hours columns as Datetime to create date time object</li>"
   ]
  },
  {
   "cell_type": "code",
   "execution_count": 15,
   "metadata": {},
   "outputs": [],
   "source": [
    "timeMap = {\n",
    "    f'H{i+1}': f'{i:02d}' for i in range(0, 24)\n",
    "}"
   ]
  },
  {
   "cell_type": "code",
   "execution_count": 16,
   "metadata": {},
   "outputs": [],
   "source": [
    "df_price.loc[:, \"Time\"] = df_price[\"Hours\"].apply(lambda x: timeMap[x] + \":00:00\")"
   ]
  },
  {
   "cell_type": "code",
   "execution_count": 17,
   "metadata": {},
   "outputs": [],
   "source": [
    "df_price.loc[:, 'Datetime'] = df_price['Delivery Day'] + ' ' + df_price['Time']"
   ]
  },
  {
   "cell_type": "markdown",
   "metadata": {},
   "source": [
    "<li>Changing data type of Datetime values to Timestamp</li>"
   ]
  },
  {
   "cell_type": "code",
   "execution_count": 18,
   "metadata": {},
   "outputs": [],
   "source": [
    "df_price.loc[:, 'Datetime'] = pd.to_datetime(df_price['Datetime'])"
   ]
  },
  {
   "cell_type": "markdown",
   "metadata": {},
   "source": [
    "<li>Making Datetime Column as index</li>"
   ]
  },
  {
   "cell_type": "code",
   "execution_count": 19,
   "metadata": {},
   "outputs": [],
   "source": [
    "df_price.set_index('Datetime', inplace=True)"
   ]
  },
  {
   "cell_type": "markdown",
   "metadata": {},
   "source": [
    "<li>Dropping Time Column</li>"
   ]
  },
  {
   "cell_type": "code",
   "execution_count": 20,
   "metadata": {},
   "outputs": [],
   "source": [
    "df_price.drop('Time', axis=1, inplace=True)"
   ]
  },
  {
   "cell_type": "code",
   "execution_count": 21,
   "metadata": {},
   "outputs": [
    {
     "data": {
      "text/html": [
       "<div>\n",
       "<style scoped>\n",
       "    .dataframe tbody tr th:only-of-type {\n",
       "        vertical-align: middle;\n",
       "    }\n",
       "\n",
       "    .dataframe tbody tr th {\n",
       "        vertical-align: top;\n",
       "    }\n",
       "\n",
       "    .dataframe thead th {\n",
       "        text-align: right;\n",
       "    }\n",
       "</style>\n",
       "<table border=\"1\" class=\"dataframe\">\n",
       "  <thead>\n",
       "    <tr style=\"text-align: right;\">\n",
       "      <th></th>\n",
       "      <th>Delivery Day</th>\n",
       "      <th>Hours</th>\n",
       "      <th>Prices\\n(EUR/MWh)</th>\n",
       "    </tr>\n",
       "    <tr>\n",
       "      <th>Datetime</th>\n",
       "      <th></th>\n",
       "      <th></th>\n",
       "      <th></th>\n",
       "    </tr>\n",
       "  </thead>\n",
       "  <tbody>\n",
       "    <tr>\n",
       "      <th>2020-01-01 00:00:00</th>\n",
       "      <td>1/1/2020</td>\n",
       "      <td>H1</td>\n",
       "      <td>26.38</td>\n",
       "    </tr>\n",
       "    <tr>\n",
       "      <th>2020-01-01 01:00:00</th>\n",
       "      <td>1/1/2020</td>\n",
       "      <td>H2</td>\n",
       "      <td>26.50</td>\n",
       "    </tr>\n",
       "    <tr>\n",
       "      <th>2020-01-01 02:00:00</th>\n",
       "      <td>1/1/2020</td>\n",
       "      <td>H3</td>\n",
       "      <td>27.01</td>\n",
       "    </tr>\n",
       "    <tr>\n",
       "      <th>2020-01-01 03:00:00</th>\n",
       "      <td>1/1/2020</td>\n",
       "      <td>H4</td>\n",
       "      <td>27.40</td>\n",
       "    </tr>\n",
       "    <tr>\n",
       "      <th>2020-01-01 04:00:00</th>\n",
       "      <td>1/1/2020</td>\n",
       "      <td>H5</td>\n",
       "      <td>27.99</td>\n",
       "    </tr>\n",
       "    <tr>\n",
       "      <th>...</th>\n",
       "      <td>...</td>\n",
       "      <td>...</td>\n",
       "      <td>...</td>\n",
       "    </tr>\n",
       "    <tr>\n",
       "      <th>2023-12-24 19:00:00</th>\n",
       "      <td>12/24/2023</td>\n",
       "      <td>H20</td>\n",
       "      <td>71.09</td>\n",
       "    </tr>\n",
       "    <tr>\n",
       "      <th>2023-12-24 20:00:00</th>\n",
       "      <td>12/24/2023</td>\n",
       "      <td>H21</td>\n",
       "      <td>62.01</td>\n",
       "    </tr>\n",
       "    <tr>\n",
       "      <th>2023-12-24 21:00:00</th>\n",
       "      <td>12/24/2023</td>\n",
       "      <td>H22</td>\n",
       "      <td>53.41</td>\n",
       "    </tr>\n",
       "    <tr>\n",
       "      <th>2023-12-24 22:00:00</th>\n",
       "      <td>12/24/2023</td>\n",
       "      <td>H23</td>\n",
       "      <td>50.10</td>\n",
       "    </tr>\n",
       "    <tr>\n",
       "      <th>2023-12-24 23:00:00</th>\n",
       "      <td>12/24/2023</td>\n",
       "      <td>H24</td>\n",
       "      <td>43.23</td>\n",
       "    </tr>\n",
       "  </tbody>\n",
       "</table>\n",
       "<p>34825 rows × 3 columns</p>\n",
       "</div>"
      ],
      "text/plain": [
       "                    Delivery Day Hours  Prices\\n(EUR/MWh)\n",
       "Datetime                                                 \n",
       "2020-01-01 00:00:00     1/1/2020    H1              26.38\n",
       "2020-01-01 01:00:00     1/1/2020    H2              26.50\n",
       "2020-01-01 02:00:00     1/1/2020    H3              27.01\n",
       "2020-01-01 03:00:00     1/1/2020    H4              27.40\n",
       "2020-01-01 04:00:00     1/1/2020    H5              27.99\n",
       "...                          ...   ...                ...\n",
       "2023-12-24 19:00:00   12/24/2023   H20              71.09\n",
       "2023-12-24 20:00:00   12/24/2023   H21              62.01\n",
       "2023-12-24 21:00:00   12/24/2023   H22              53.41\n",
       "2023-12-24 22:00:00   12/24/2023   H23              50.10\n",
       "2023-12-24 23:00:00   12/24/2023   H24              43.23\n",
       "\n",
       "[34825 rows x 3 columns]"
      ]
     },
     "execution_count": 21,
     "metadata": {},
     "output_type": "execute_result"
    }
   ],
   "source": [
    "df_price"
   ]
  },
  {
   "cell_type": "markdown",
   "metadata": {},
   "source": [
    "#### 4.2 Visualizing Datas"
   ]
  },
  {
   "cell_type": "markdown",
   "metadata": {},
   "source": [
    "<li>Time Series analysis of Daily Price</li>"
   ]
  },
  {
   "cell_type": "code",
   "execution_count": 22,
   "metadata": {},
   "outputs": [
    {
     "data": {
      "image/png": "[encoded data removed]",
      "text/plain": [
       "<Figure size 640x480 with 1 Axes>"
      ]
     },
     "metadata": {},
     "output_type": "display_data"
    }
   ],
   "source": [
    "df_price['Prices\\n(EUR/MWh)'].resample('D').mean().plot()\n",
    "plt.xlabel('Date')\n",
    "plt.ylabel('Average Price (EUR/MWh)')\n",
    "plt.title('Daily Average Prices')\n",
    "plt.show()"
   ]
  },
  {
   "cell_type": "markdown",
   "metadata": {},
   "source": [
    "<li>Time Series Analysis of Weekly Price</li>"
   ]
  },
  {
   "cell_type": "code",
   "execution_count": 23,
   "metadata": {},
   "outputs": [
    {
     "data": {
      "image/png": "[encoded data removed]",
      "text/plain": [
       "<Figure size 640x480 with 1 Axes>"
      ]
     },
     "metadata": {},
     "output_type": "display_data"
    }
   ],
   "source": [
    "df_price['Prices\\n(EUR/MWh)'].resample('W').mean().plot()\n",
    "plt.xlabel('Date')\n",
    "plt.ylabel('Average Price (EUR/MWh)')\n",
    "plt.title('Weekly Average Prices')\n",
    "plt.show()"
   ]
  },
  {
   "cell_type": "markdown",
   "metadata": {},
   "source": [
    "<li>Time Series Analysis of Monthly Price</li>"
   ]
  },
  {
   "cell_type": "code",
   "execution_count": 24,
   "metadata": {},
   "outputs": [
    {
     "data": {
      "image/png": "[encoded data removed]",
      "text/plain": [
       "<Figure size 640x480 with 1 Axes>"
      ]
     },
     "metadata": {},
     "output_type": "display_data"
    }
   ],
   "source": [
    "df_price['Prices\\n(EUR/MWh)'].resample('M').mean().plot()\n",
    "plt.xlabel('Date')\n",
    "plt.ylabel('Average Price (EUR/MWh)')\n",
    "plt.title('Monthly Average Prices')\n",
    "plt.show()\n"
   ]
  },
  {
   "cell_type": "markdown",
   "metadata": {},
   "source": [
    "<li>Average Prices of electricity for each hour of day</li>"
   ]
  },
  {
   "cell_type": "code",
   "execution_count": 25,
   "metadata": {},
   "outputs": [
    {
     "data": {
      "image/png": "[encoded data removed]",
      "text/plain": [
       "<Figure size 1200x600 with 1 Axes>"
      ]
     },
     "metadata": {},
     "output_type": "display_data"
    }
   ],
   "source": [
    "hour_order = [f'H{i}' for i in range(1, 25)] \n",
    "\n",
    "# Group by the 'Hours' column and calculate the mean for each group\n",
    "hourly_average = df_price.groupby('Hours')['Prices\\n(EUR/MWh)'].mean()\n",
    "\n",
    "plt.figure(figsize=(12, 6))\n",
    "\n",
    "# Plot a bar graph\n",
    "plt.bar(hour_order, hourly_average.reindex(hour_order))\n",
    "plt.xlabel('Hour of the Day')\n",
    "plt.ylabel('Average Price (EUR/MWh)')\n",
    "plt.title('Average Hourly Prices (Bar Graph)')\n",
    "plt.show()"
   ]
  },
  {
   "cell_type": "markdown",
   "metadata": {},
   "source": [
    "4.3 Normalization"
   ]
  },
  {
   "cell_type": "code",
   "execution_count": 26,
   "metadata": {},
   "outputs": [],
   "source": [
    "from sklearn.preprocessing import MinMaxScaler"
   ]
  },
  {
   "cell_type": "code",
   "execution_count": 27,
   "metadata": {},
   "outputs": [],
   "source": [
    "scaler = MinMaxScaler()\n",
    "df_price = scaler.fit_transform(df_price[\"Prices\\n(EUR/MWh)\"].values.reshape(-1,1))"
   ]
  },
  {
   "cell_type": "code",
   "execution_count": 28,
   "metadata": {},
   "outputs": [
    {
     "data": {
      "text/plain": [
       "array([[0.03597692],\n",
       "       [0.03614063],\n",
       "       [0.03683643],\n",
       "       ...,\n",
       "       [0.07285428],\n",
       "       [0.0683384 ],\n",
       "       [0.05896558]])"
      ]
     },
     "execution_count": 28,
     "metadata": {},
     "output_type": "execute_result"
    }
   ],
   "source": [
    "df_price"
   ]
  },
  {
   "cell_type": "code",
   "execution_count": 29,
   "metadata": {},
   "outputs": [],
   "source": [
    "def train_test_split(df, train_size=0.8):\n",
    "    df_train = df[:int(train_size * len(df))]\n",
    "    df_test = df[int(train_size * len(df)):]\n",
    "    return df_train, df_test"
   ]
  },
  {
   "cell_type": "code",
   "execution_count": 30,
   "metadata": {},
   "outputs": [],
   "source": [
    "df_train, df_test = train_test_split(df_price)"
   ]
  },
  {
   "cell_type": "code",
   "execution_count": 31,
   "metadata": {},
   "outputs": [
    {
     "data": {
      "text/plain": [
       "array([[0.03597692],\n",
       "       [0.03614063],\n",
       "       [0.03683643],\n",
       "       ...,\n",
       "       [0.04326234],\n",
       "       [0.08094465],\n",
       "       [0.10956792]])"
      ]
     },
     "execution_count": 31,
     "metadata": {},
     "output_type": "execute_result"
    }
   ],
   "source": [
    "df_train"
   ]
  },
  {
   "cell_type": "code",
   "execution_count": 32,
   "metadata": {},
   "outputs": [],
   "source": [
    "def create_dataset(dataset, time_step=1):\n",
    "    dataX, dataY = [], []\n",
    "    for i in range(len(dataset)-time_step-1):\n",
    "        a = dataset[i:(i+time_step), 0]\n",
    "        dataX.append(a)\n",
    "        dataY.append(dataset[i + time_step, 0])\n",
    "    return np.array(dataX), np.array(dataY)"
   ]
  },
  {
   "cell_type": "code",
   "execution_count": 54,
   "metadata": {},
   "outputs": [],
   "source": [
    "time_step = 15\n",
    "X_train, y_train = create_dataset(dataset=df_train, time_step=time_step)\n",
    "X_test, y_test = create_dataset(dataset=df_test, time_step=time_step)"
   ]
  },
  {
   "cell_type": "code",
   "execution_count": 55,
   "metadata": {},
   "outputs": [
    {
     "data": {
      "text/plain": [
       "((27844, 15), (27844,))"
      ]
     },
     "execution_count": 55,
     "metadata": {},
     "output_type": "execute_result"
    }
   ],
   "source": [
    "X_train.shape, y_train.shape"
   ]
  },
  {
   "cell_type": "code",
   "execution_count": 56,
   "metadata": {},
   "outputs": [
    {
     "data": {
      "text/plain": [
       "array([[0.03597692, 0.03614063, 0.03683643, ..., 0.0519803 , 0.0562506 ,\n",
       "        0.05818792],\n",
       "       [0.03614063, 0.03683643, 0.03736851, ..., 0.0562506 , 0.05818792,\n",
       "        0.05739662],\n",
       "       [0.03683643, 0.03736851, 0.03817346, ..., 0.05818792, 0.05739662,\n",
       "        0.05389034],\n",
       "       ...,\n",
       "       [0.09280052, 0.07958034, 0.07405487, ..., 0.01443442, 0.02083305,\n",
       "        0.014871  ],\n",
       "       [0.07958034, 0.07405487, 0.06034353, ..., 0.02083305, 0.014871  ,\n",
       "        0.06399989],\n",
       "       [0.07405487, 0.06034353, 0.04173431, ..., 0.014871  , 0.06399989,\n",
       "        0.04326234]])"
      ]
     },
     "execution_count": 56,
     "metadata": {},
     "output_type": "execute_result"
    }
   ],
   "source": [
    "X_train"
   ]
  },
  {
   "cell_type": "code",
   "execution_count": 57,
   "metadata": {},
   "outputs": [],
   "source": [
    "from xgboost import XGBRegressor"
   ]
  },
  {
   "cell_type": "code",
   "execution_count": 59,
   "metadata": {},
   "outputs": [
    {
     "data": {
      "text/html": [
       "<style>#sk-container-id-1 {color: black;}#sk-container-id-1 pre{padding: 0;}#sk-container-id-1 div.sk-toggleable {background-color: white;}#sk-container-id-1 label.sk-toggleable__label {cursor: pointer;display: block;width: 100%;margin-bottom: 0;padding: 0.3em;box-sizing: border-box;text-align: center;}#sk-container-id-1 label.sk-toggleable__label-arrow:before {content: \"▸\";float: left;margin-right: 0.25em;color: #696969;}#sk-container-id-1 label.sk-toggleable__label-arrow:hover:before {color: black;}#sk-container-id-1 div.sk-estimator:hover label.sk-toggleable__label-arrow:before {color: black;}#sk-container-id-1 div.sk-toggleable__content {max-height: 0;max-width: 0;overflow: hidden;text-align: left;background-color: #f0f8ff;}#sk-container-id-1 div.sk-toggleable__content pre {margin: 0.2em;color: black;border-radius: 0.25em;background-color: #f0f8ff;}#sk-container-id-1 input.sk-toggleable__control:checked~div.sk-toggleable__content {max-height: 200px;max-width: 100%;overflow: auto;}#sk-container-id-1 input.sk-toggleable__control:checked~label.sk-toggleable__label-arrow:before {content: \"▾\";}#sk-container-id-1 div.sk-estimator input.sk-toggleable__control:checked~label.sk-toggleable__label {background-color: #d4ebff;}#sk-container-id-1 div.sk-label input.sk-toggleable__control:checked~label.sk-toggleable__label {background-color: #d4ebff;}#sk-container-id-1 input.sk-hidden--visually {border: 0;clip: rect(1px 1px 1px 1px);clip: rect(1px, 1px, 1px, 1px);height: 1px;margin: -1px;overflow: hidden;padding: 0;position: absolute;width: 1px;}#sk-container-id-1 div.sk-estimator {font-family: monospace;background-color: #f0f8ff;border: 1px dotted black;border-radius: 0.25em;box-sizing: border-box;margin-bottom: 0.5em;}#sk-container-id-1 div.sk-estimator:hover {background-color: #d4ebff;}#sk-container-id-1 div.sk-parallel-item::after {content: \"\";width: 100%;border-bottom: 1px solid gray;flex-grow: 1;}#sk-container-id-1 div.sk-label:hover label.sk-toggleable__label {background-color: #d4ebff;}#sk-container-id-1 div.sk-serial::before {content: \"\";position: absolute;border-left: 1px solid gray;box-sizing: border-box;top: 0;bottom: 0;left: 50%;z-index: 0;}#sk-container-id-1 div.sk-serial {display: flex;flex-direction: column;align-items: center;background-color: white;padding-right: 0.2em;padding-left: 0.2em;position: relative;}#sk-container-id-1 div.sk-item {position: relative;z-index: 1;}#sk-container-id-1 div.sk-parallel {display: flex;align-items: stretch;justify-content: center;background-color: white;position: relative;}#sk-container-id-1 div.sk-item::before, #sk-container-id-1 div.sk-parallel-item::before {content: \"\";position: absolute;border-left: 1px solid gray;box-sizing: border-box;top: 0;bottom: 0;left: 50%;z-index: -1;}#sk-container-id-1 div.sk-parallel-item {display: flex;flex-direction: column;z-index: 1;position: relative;background-color: white;}#sk-container-id-1 div.sk-parallel-item:first-child::after {align-self: flex-end;width: 50%;}#sk-container-id-1 div.sk-parallel-item:last-child::after {align-self: flex-start;width: 50%;}#sk-container-id-1 div.sk-parallel-item:only-child::after {width: 0;}#sk-container-id-1 div.sk-dashed-wrapped {border: 1px dashed gray;margin: 0 0.4em 0.5em 0.4em;box-sizing: border-box;padding-bottom: 0.4em;background-color: white;}#sk-container-id-1 div.sk-label label {font-family: monospace;font-weight: bold;display: inline-block;line-height: 1.2em;}#sk-container-id-1 div.sk-label-container {text-align: center;}#sk-container-id-1 div.sk-container {/* jupyter's `normalize.less` sets `[hidden] { display: none; }` but bootstrap.min.css set `[hidden] { display: none !important; }` so we also need the `!important` here to be able to override the default hidden behavior on the sphinx rendered scikit-learn.org. See: https://github.com/scikit-learn/scikit-learn/issues/21755 */display: inline-block !important;position: relative;}#sk-container-id-1 div.sk-text-repr-fallback {display: none;}</style><div id=\"sk-container-id-1\" class=\"sk-top-container\"><div class=\"sk-text-repr-fallback\"><pre>XGBRegressor(base_score=None, booster=None, callbacks=None,\n",
       "             colsample_bylevel=None, colsample_bynode=None,\n",
       "             colsample_bytree=None, device=None, early_stopping_rounds=None,\n",
       "             enable_categorical=False, eval_metric=None, feature_types=None,\n",
       "             gamma=None, grow_policy=None, importance_type=None,\n",
       "             interaction_constraints=None, learning_rate=0.05, max_bin=None,\n",
       "             max_cat_threshold=None, max_cat_to_onehot=None,\n",
       "             max_delta_step=None, max_depth=None, max_leaves=None,\n",
       "             min_child_weight=None, missing=nan, monotone_constraints=None,\n",
       "             multi_strategy=None, n_estimators=1000, n_jobs=None,\n",
       "             num_parallel_tree=None, random_state=None, ...)</pre><b>In a Jupyter environment, please rerun this cell to show the HTML representation or trust the notebook. <br />On GitHub, the HTML representation is unable to render, please try loading this page with nbviewer.org.</b></div><div class=\"sk-container\" hidden><div class=\"sk-item\"><div class=\"sk-estimator sk-toggleable\"><input class=\"sk-toggleable__control sk-hidden--visually\" id=\"sk-estimator-id-1\" type=\"checkbox\" checked><label for=\"sk-estimator-id-1\" class=\"sk-toggleable__label sk-toggleable__label-arrow\">XGBRegressor</label><div class=\"sk-toggleable__content\"><pre>XGBRegressor(base_score=None, booster=None, callbacks=None,\n",
       "             colsample_bylevel=None, colsample_bynode=None,\n",
       "             colsample_bytree=None, device=None, early_stopping_rounds=None,\n",
       "             enable_categorical=False, eval_metric=None, feature_types=None,\n",
       "             gamma=None, grow_policy=None, importance_type=None,\n",
       "             interaction_constraints=None, learning_rate=0.05, max_bin=None,\n",
       "             max_cat_threshold=None, max_cat_to_onehot=None,\n",
       "             max_delta_step=None, max_depth=None, max_leaves=None,\n",
       "             min_child_weight=None, missing=nan, monotone_constraints=None,\n",
       "             multi_strategy=None, n_estimators=1000, n_jobs=None,\n",
       "             num_parallel_tree=None, random_state=None, ...)</pre></div></div></div></div></div>"
      ],
      "text/plain": [
       "XGBRegressor(base_score=None, booster=None, callbacks=None,\n",
       "             colsample_bylevel=None, colsample_bynode=None,\n",
       "             colsample_bytree=None, device=None, early_stopping_rounds=None,\n",
       "             enable_categorical=False, eval_metric=None, feature_types=None,\n",
       "             gamma=None, grow_policy=None, importance_type=None,\n",
       "             interaction_constraints=None, learning_rate=0.05, max_bin=None,\n",
       "             max_cat_threshold=None, max_cat_to_onehot=None,\n",
       "             max_delta_step=None, max_depth=None, max_leaves=None,\n",
       "             min_child_weight=None, missing=nan, monotone_constraints=None,\n",
       "             multi_strategy=None, n_estimators=1000, n_jobs=None,\n",
       "             num_parallel_tree=None, random_state=None, ...)"
      ]
     },
     "execution_count": 59,
     "metadata": {},
     "output_type": "execute_result"
    }
   ],
   "source": [
    "xgb_model = XGBRegressor(n_estimators=1000, learning_rate=0.05)\n",
    "xgb_model.fit(X_train, y_train)"
   ]
  },
  {
   "cell_type": "code",
   "execution_count": 60,
   "metadata": {},
   "outputs": [
    {
     "data": {
      "text/html": [
       "<style>#sk-container-id-2 {color: black;}#sk-container-id-2 pre{padding: 0;}#sk-container-id-2 div.sk-toggleable {background-color: white;}#sk-container-id-2 label.sk-toggleable__label {cursor: pointer;display: block;width: 100%;margin-bottom: 0;padding: 0.3em;box-sizing: border-box;text-align: center;}#sk-container-id-2 label.sk-toggleable__label-arrow:before {content: \"▸\";float: left;margin-right: 0.25em;color: #696969;}#sk-container-id-2 label.sk-toggleable__label-arrow:hover:before {color: black;}#sk-container-id-2 div.sk-estimator:hover label.sk-toggleable__label-arrow:before {color: black;}#sk-container-id-2 div.sk-toggleable__content {max-height: 0;max-width: 0;overflow: hidden;text-align: left;background-color: #f0f8ff;}#sk-container-id-2 div.sk-toggleable__content pre {margin: 0.2em;color: black;border-radius: 0.25em;background-color: #f0f8ff;}#sk-container-id-2 input.sk-toggleable__control:checked~div.sk-toggleable__content {max-height: 200px;max-width: 100%;overflow: auto;}#sk-container-id-2 input.sk-toggleable__control:checked~label.sk-toggleable__label-arrow:before {content: \"▾\";}#sk-container-id-2 div.sk-estimator input.sk-toggleable__control:checked~label.sk-toggleable__label {background-color: #d4ebff;}#sk-container-id-2 div.sk-label input.sk-toggleable__control:checked~label.sk-toggleable__label {background-color: #d4ebff;}#sk-container-id-2 input.sk-hidden--visually {border: 0;clip: rect(1px 1px 1px 1px);clip: rect(1px, 1px, 1px, 1px);height: 1px;margin: -1px;overflow: hidden;padding: 0;position: absolute;width: 1px;}#sk-container-id-2 div.sk-estimator {font-family: monospace;background-color: #f0f8ff;border: 1px dotted black;border-radius: 0.25em;box-sizing: border-box;margin-bottom: 0.5em;}#sk-container-id-2 div.sk-estimator:hover {background-color: #d4ebff;}#sk-container-id-2 div.sk-parallel-item::after {content: \"\";width: 100%;border-bottom: 1px solid gray;flex-grow: 1;}#sk-container-id-2 div.sk-label:hover label.sk-toggleable__label {background-color: #d4ebff;}#sk-container-id-2 div.sk-serial::before {content: \"\";position: absolute;border-left: 1px solid gray;box-sizing: border-box;top: 0;bottom: 0;left: 50%;z-index: 0;}#sk-container-id-2 div.sk-serial {display: flex;flex-direction: column;align-items: center;background-color: white;padding-right: 0.2em;padding-left: 0.2em;position: relative;}#sk-container-id-2 div.sk-item {position: relative;z-index: 1;}#sk-container-id-2 div.sk-parallel {display: flex;align-items: stretch;justify-content: center;background-color: white;position: relative;}#sk-container-id-2 div.sk-item::before, #sk-container-id-2 div.sk-parallel-item::before {content: \"\";position: absolute;border-left: 1px solid gray;box-sizing: border-box;top: 0;bottom: 0;left: 50%;z-index: -1;}#sk-container-id-2 div.sk-parallel-item {display: flex;flex-direction: column;z-index: 1;position: relative;background-color: white;}#sk-container-id-2 div.sk-parallel-item:first-child::after {align-self: flex-end;width: 50%;}#sk-container-id-2 div.sk-parallel-item:last-child::after {align-self: flex-start;width: 50%;}#sk-container-id-2 div.sk-parallel-item:only-child::after {width: 0;}#sk-container-id-2 div.sk-dashed-wrapped {border: 1px dashed gray;margin: 0 0.4em 0.5em 0.4em;box-sizing: border-box;padding-bottom: 0.4em;background-color: white;}#sk-container-id-2 div.sk-label label {font-family: monospace;font-weight: bold;display: inline-block;line-height: 1.2em;}#sk-container-id-2 div.sk-label-container {text-align: center;}#sk-container-id-2 div.sk-container {/* jupyter's `normalize.less` sets `[hidden] { display: none; }` but bootstrap.min.css set `[hidden] { display: none !important; }` so we also need the `!important` here to be able to override the default hidden behavior on the sphinx rendered scikit-learn.org. See: https://github.com/scikit-learn/scikit-learn/issues/21755 */display: inline-block !important;position: relative;}#sk-container-id-2 div.sk-text-repr-fallback {display: none;}</style><div id=\"sk-container-id-2\" class=\"sk-top-container\"><div class=\"sk-text-repr-fallback\"><pre>XGBRegressor(base_score=None, booster=None, callbacks=None,\n",
       "             colsample_bylevel=None, colsample_bynode=None,\n",
       "             colsample_bytree=None, device=None, early_stopping_rounds=None,\n",
       "             enable_categorical=False, eval_metric=None, feature_types=None,\n",
       "             gamma=None, grow_policy=None, importance_type=None,\n",
       "             interaction_constraints=None, learning_rate=0.05, max_bin=None,\n",
       "             max_cat_threshold=None, max_cat_to_onehot=None,\n",
       "             max_delta_step=None, max_depth=None, max_leaves=None,\n",
       "             min_child_weight=None, missing=nan, monotone_constraints=None,\n",
       "             multi_strategy=None, n_estimators=1000, n_jobs=None,\n",
       "             num_parallel_tree=None, random_state=None, ...)</pre><b>In a Jupyter environment, please rerun this cell to show the HTML representation or trust the notebook. <br />On GitHub, the HTML representation is unable to render, please try loading this page with nbviewer.org.</b></div><div class=\"sk-container\" hidden><div class=\"sk-item\"><div class=\"sk-estimator sk-toggleable\"><input class=\"sk-toggleable__control sk-hidden--visually\" id=\"sk-estimator-id-2\" type=\"checkbox\" checked><label for=\"sk-estimator-id-2\" class=\"sk-toggleable__label sk-toggleable__label-arrow\">XGBRegressor</label><div class=\"sk-toggleable__content\"><pre>XGBRegressor(base_score=None, booster=None, callbacks=None,\n",
       "             colsample_bylevel=None, colsample_bynode=None,\n",
       "             colsample_bytree=None, device=None, early_stopping_rounds=None,\n",
       "             enable_categorical=False, eval_metric=None, feature_types=None,\n",
       "             gamma=None, grow_policy=None, importance_type=None,\n",
       "             interaction_constraints=None, learning_rate=0.05, max_bin=None,\n",
       "             max_cat_threshold=None, max_cat_to_onehot=None,\n",
       "             max_delta_step=None, max_depth=None, max_leaves=None,\n",
       "             min_child_weight=None, missing=nan, monotone_constraints=None,\n",
       "             multi_strategy=None, n_estimators=1000, n_jobs=None,\n",
       "             num_parallel_tree=None, random_state=None, ...)</pre></div></div></div></div></div>"
      ],
      "text/plain": [
       "XGBRegressor(base_score=None, booster=None, callbacks=None,\n",
       "             colsample_bylevel=None, colsample_bynode=None,\n",
       "             colsample_bytree=None, device=None, early_stopping_rounds=None,\n",
       "             enable_categorical=False, eval_metric=None, feature_types=None,\n",
       "             gamma=None, grow_policy=None, importance_type=None,\n",
       "             interaction_constraints=None, learning_rate=0.05, max_bin=None,\n",
       "             max_cat_threshold=None, max_cat_to_onehot=None,\n",
       "             max_delta_step=None, max_depth=None, max_leaves=None,\n",
       "             min_child_weight=None, missing=nan, monotone_constraints=None,\n",
       "             multi_strategy=None, n_estimators=1000, n_jobs=None,\n",
       "             num_parallel_tree=None, random_state=None, ...)"
      ]
     },
     "execution_count": 60,
     "metadata": {},
     "output_type": "execute_result"
    }
   ],
   "source": [
    "xgb_model.fit(X_train, y_train, eval_set=[(X_test, y_test)], verbose=False)"
   ]
  },
  {
   "cell_type": "code",
   "execution_count": 61,
   "metadata": {},
   "outputs": [],
   "source": [
    "xgb_pred = xgb_model.predict(X_test)"
   ]
  },
  {
   "cell_type": "code",
   "execution_count": 62,
   "metadata": {},
   "outputs": [
    {
     "data": {
      "text/plain": [
       "0.0008638143481820561"
      ]
     },
     "execution_count": 62,
     "metadata": {},
     "output_type": "execute_result"
    }
   ],
   "source": [
    "mean_squared_error(y_test, xgb_pred)"
   ]
  },
  {
   "cell_type": "code",
   "execution_count": 64,
   "metadata": {},
   "outputs": [],
   "source": [
    "from tensorflow.keras.models import Sequential\n",
    "from tensorflow.keras.layers import LSTM, Dense, Flatten, Dropout"
   ]
  },
  {
   "cell_type": "code",
   "execution_count": 82,
   "metadata": {},
   "outputs": [],
   "source": [
    "model = Sequential()\n",
    "model.add(LSTM(100, input_shape=(None, 1), return_sequences=True))\n",
    "model.add(Dense(200, activation='relu'))\n",
    "model.add(Dropout(0.1))\n",
    "model.add(Dense(1))\n",
    "model.compile(loss='mean_squared_error', optimizer='adam')"
   ]
  },
  {
   "cell_type": "code",
   "execution_count": 83,
   "metadata": {},
   "outputs": [
    {
     "name": "stdout",
     "output_type": "stream",
     "text": [
      "Epoch 1/200\n",
      "871/871 [==============================] - 7s 7ms/step - loss: 0.0307 - val_loss: 0.0063\n",
      "Epoch 2/200\n",
      "871/871 [==============================] - 6s 7ms/step - loss: 0.0304 - val_loss: 0.0059\n",
      "Epoch 3/200\n",
      "871/871 [==============================] - 7s 7ms/step - loss: 0.0304 - val_loss: 0.0080\n",
      "Epoch 4/200\n",
      "871/871 [==============================] - 6s 7ms/step - loss: 0.0304 - val_loss: 0.0060\n",
      "Epoch 5/200\n",
      "871/871 [==============================] - 7s 8ms/step - loss: 0.0304 - val_loss: 0.0049\n",
      "Epoch 6/200\n",
      "871/871 [==============================] - 7s 8ms/step - loss: 0.0304 - val_loss: 0.0054\n",
      "Epoch 7/200\n",
      "871/871 [==============================] - 6s 7ms/step - loss: 0.0304 - val_loss: 0.0057\n",
      "Epoch 8/200\n",
      "871/871 [==============================] - 6s 7ms/step - loss: 0.0303 - val_loss: 0.0050\n",
      "Epoch 9/200\n",
      "871/871 [==============================] - 6s 7ms/step - loss: 0.0304 - val_loss: 0.0063\n",
      "Epoch 10/200\n",
      "871/871 [==============================] - 6s 7ms/step - loss: 0.0303 - val_loss: 0.0065\n",
      "Epoch 11/200\n",
      "871/871 [==============================] - 6s 7ms/step - loss: 0.0303 - val_loss: 0.0060\n",
      "Epoch 12/200\n",
      "871/871 [==============================] - 6s 7ms/step - loss: 0.0303 - val_loss: 0.0056\n",
      "Epoch 13/200\n",
      "871/871 [==============================] - 6s 6ms/step - loss: 0.0303 - val_loss: 0.0056\n",
      "Epoch 14/200\n",
      "871/871 [==============================] - 6s 6ms/step - loss: 0.0303 - val_loss: 0.0060\n",
      "Epoch 15/200\n",
      "871/871 [==============================] - 6s 6ms/step - loss: 0.0303 - val_loss: 0.0058\n",
      "Epoch 16/200\n",
      "871/871 [==============================] - 6s 6ms/step - loss: 0.0303 - val_loss: 0.0058\n",
      "Epoch 17/200\n",
      "871/871 [==============================] - 6s 7ms/step - loss: 0.0303 - val_loss: 0.0055\n",
      "Epoch 18/200\n",
      "871/871 [==============================] - 6s 7ms/step - loss: 0.0303 - val_loss: 0.0055\n",
      "Epoch 19/200\n",
      "871/871 [==============================] - 6s 7ms/step - loss: 0.0303 - val_loss: 0.0064\n",
      "Epoch 20/200\n",
      "871/871 [==============================] - 6s 6ms/step - loss: 0.0303 - val_loss: 0.0061\n",
      "Epoch 21/200\n",
      "871/871 [==============================] - 6s 6ms/step - loss: 0.0303 - val_loss: 0.0056\n",
      "Epoch 22/200\n",
      "871/871 [==============================] - 6s 7ms/step - loss: 0.0303 - val_loss: 0.0054\n",
      "Epoch 23/200\n",
      "871/871 [==============================] - 6s 7ms/step - loss: 0.0303 - val_loss: 0.0054\n",
      "Epoch 24/200\n",
      "871/871 [==============================] - 6s 7ms/step - loss: 0.0303 - val_loss: 0.0054\n",
      "Epoch 25/200\n",
      "871/871 [==============================] - 6s 7ms/step - loss: 0.0303 - val_loss: 0.0057\n",
      "Epoch 26/200\n",
      "871/871 [==============================] - 6s 7ms/step - loss: 0.0303 - val_loss: 0.0057\n",
      "Epoch 27/200\n",
      "871/871 [==============================] - 6s 7ms/step - loss: 0.0303 - val_loss: 0.0056\n",
      "Epoch 28/200\n",
      "871/871 [==============================] - 6s 7ms/step - loss: 0.0303 - val_loss: 0.0053\n",
      "Epoch 29/200\n",
      "871/871 [==============================] - 6s 7ms/step - loss: 0.0303 - val_loss: 0.0058\n",
      "Epoch 30/200\n",
      "871/871 [==============================] - 6s 7ms/step - loss: 0.0303 - val_loss: 0.0053\n",
      "Epoch 31/200\n",
      "871/871 [==============================] - 6s 7ms/step - loss: 0.0303 - val_loss: 0.0060\n",
      "Epoch 32/200\n",
      "871/871 [==============================] - 6s 6ms/step - loss: 0.0303 - val_loss: 0.0054\n",
      "Epoch 33/200\n",
      "871/871 [==============================] - 6s 6ms/step - loss: 0.0303 - val_loss: 0.0055\n",
      "Epoch 34/200\n",
      "871/871 [==============================] - 6s 6ms/step - loss: 0.0303 - val_loss: 0.0054\n",
      "Epoch 35/200\n",
      "871/871 [==============================] - 6s 6ms/step - loss: 0.0303 - val_loss: 0.0055\n",
      "Epoch 36/200\n",
      "871/871 [==============================] - 6s 7ms/step - loss: 0.0303 - val_loss: 0.0057\n",
      "Epoch 37/200\n",
      "871/871 [==============================] - 6s 6ms/step - loss: 0.0303 - val_loss: 0.0052\n",
      "Epoch 38/200\n",
      "871/871 [==============================] - 6s 6ms/step - loss: 0.0303 - val_loss: 0.0054\n",
      "Epoch 39/200\n",
      "871/871 [==============================] - 6s 6ms/step - loss: 0.0303 - val_loss: 0.0054\n",
      "Epoch 40/200\n",
      "871/871 [==============================] - 5s 6ms/step - loss: 0.0303 - val_loss: 0.0057\n",
      "Epoch 41/200\n",
      "871/871 [==============================] - 6s 7ms/step - loss: 0.0303 - val_loss: 0.0057\n",
      "Epoch 42/200\n",
      "871/871 [==============================] - 6s 7ms/step - loss: 0.0303 - val_loss: 0.0058\n",
      "Epoch 43/200\n",
      "871/871 [==============================] - 6s 7ms/step - loss: 0.0303 - val_loss: 0.0054\n",
      "Epoch 44/200\n",
      "871/871 [==============================] - 6s 7ms/step - loss: 0.0303 - val_loss: 0.0057\n",
      "Epoch 45/200\n",
      "871/871 [==============================] - 6s 7ms/step - loss: 0.0303 - val_loss: 0.0052\n",
      "Epoch 46/200\n",
      "871/871 [==============================] - 6s 7ms/step - loss: 0.0303 - val_loss: 0.0064\n",
      "Epoch 47/200\n",
      "871/871 [==============================] - 6s 7ms/step - loss: 0.0303 - val_loss: 0.0057\n",
      "Epoch 48/200\n",
      "871/871 [==============================] - 6s 7ms/step - loss: 0.0303 - val_loss: 0.0057\n",
      "Epoch 49/200\n",
      "871/871 [==============================] - 6s 6ms/step - loss: 0.0303 - val_loss: 0.0052\n",
      "Epoch 50/200\n",
      "871/871 [==============================] - 6s 6ms/step - loss: 0.0303 - val_loss: 0.0053\n",
      "Epoch 51/200\n",
      "871/871 [==============================] - 6s 7ms/step - loss: 0.0303 - val_loss: 0.0051\n",
      "Epoch 52/200\n",
      "871/871 [==============================] - 6s 7ms/step - loss: 0.0303 - val_loss: 0.0053\n",
      "Epoch 53/200\n",
      "871/871 [==============================] - 6s 6ms/step - loss: 0.0303 - val_loss: 0.0057\n",
      "Epoch 54/200\n",
      "871/871 [==============================] - 6s 6ms/step - loss: 0.0303 - val_loss: 0.0053\n",
      "Epoch 55/200\n",
      "871/871 [==============================] - 6s 7ms/step - loss: 0.0303 - val_loss: 0.0052\n",
      "Epoch 56/200\n",
      "871/871 [==============================] - 6s 6ms/step - loss: 0.0303 - val_loss: 0.0060\n",
      "Epoch 57/200\n",
      "871/871 [==============================] - 5s 6ms/step - loss: 0.0303 - val_loss: 0.0052\n",
      "Epoch 58/200\n",
      "871/871 [==============================] - 6s 7ms/step - loss: 0.0303 - val_loss: 0.0051\n",
      "Epoch 59/200\n",
      "871/871 [==============================] - 6s 7ms/step - loss: 0.0303 - val_loss: 0.0058\n",
      "Epoch 60/200\n",
      "871/871 [==============================] - 6s 7ms/step - loss: 0.0303 - val_loss: 0.0054\n",
      "Epoch 61/200\n",
      "871/871 [==============================] - 5s 6ms/step - loss: 0.0303 - val_loss: 0.0064\n",
      "Epoch 62/200\n",
      "871/871 [==============================] - 5s 6ms/step - loss: 0.0303 - val_loss: 0.0054\n",
      "Epoch 63/200\n",
      "871/871 [==============================] - 5s 6ms/step - loss: 0.0303 - val_loss: 0.0052\n",
      "Epoch 64/200\n",
      "871/871 [==============================] - 5s 6ms/step - loss: 0.0303 - val_loss: 0.0055\n",
      "Epoch 65/200\n",
      "871/871 [==============================] - 6s 7ms/step - loss: 0.0303 - val_loss: 0.0057\n",
      "Epoch 66/200\n",
      "871/871 [==============================] - 5s 6ms/step - loss: 0.0303 - val_loss: 0.0057\n",
      "Epoch 67/200\n",
      "871/871 [==============================] - 5s 6ms/step - loss: 0.0303 - val_loss: 0.0057\n",
      "Epoch 68/200\n",
      "871/871 [==============================] - 5s 6ms/step - loss: 0.0303 - val_loss: 0.0055\n",
      "Epoch 69/200\n",
      "871/871 [==============================] - 5s 6ms/step - loss: 0.0303 - val_loss: 0.0052\n",
      "Epoch 70/200\n",
      "871/871 [==============================] - 5s 6ms/step - loss: 0.0303 - val_loss: 0.0055\n",
      "Epoch 71/200\n",
      "871/871 [==============================] - 5s 6ms/step - loss: 0.0303 - val_loss: 0.0057\n",
      "Epoch 72/200\n",
      "871/871 [==============================] - 5s 6ms/step - loss: 0.0303 - val_loss: 0.0057\n",
      "Epoch 73/200\n",
      "871/871 [==============================] - 5s 6ms/step - loss: 0.0303 - val_loss: 0.0054\n",
      "Epoch 74/200\n",
      "871/871 [==============================] - 5s 6ms/step - loss: 0.0303 - val_loss: 0.0056\n",
      "Epoch 75/200\n",
      "871/871 [==============================] - 5s 6ms/step - loss: 0.0303 - val_loss: 0.0056\n",
      "Epoch 76/200\n",
      "871/871 [==============================] - 5s 6ms/step - loss: 0.0303 - val_loss: 0.0055\n",
      "Epoch 77/200\n",
      "871/871 [==============================] - 6s 6ms/step - loss: 0.0303 - val_loss: 0.0053\n",
      "Epoch 78/200\n",
      "871/871 [==============================] - 6s 6ms/step - loss: 0.0303 - val_loss: 0.0054\n",
      "Epoch 79/200\n",
      "871/871 [==============================] - 6s 6ms/step - loss: 0.0303 - val_loss: 0.0058\n",
      "Epoch 80/200\n",
      "871/871 [==============================] - 5s 6ms/step - loss: 0.0303 - val_loss: 0.0059\n",
      "Epoch 81/200\n",
      "871/871 [==============================] - 5s 6ms/step - loss: 0.0303 - val_loss: 0.0055\n",
      "Epoch 82/200\n",
      "871/871 [==============================] - 5s 6ms/step - loss: 0.0303 - val_loss: 0.0058\n",
      "Epoch 83/200\n",
      "871/871 [==============================] - 5s 6ms/step - loss: 0.0303 - val_loss: 0.0052\n",
      "Epoch 84/200\n",
      "871/871 [==============================] - 5s 6ms/step - loss: 0.0303 - val_loss: 0.0054\n",
      "Epoch 85/200\n",
      "871/871 [==============================] - 5s 6ms/step - loss: 0.0303 - val_loss: 0.0059\n",
      "Epoch 86/200\n",
      "871/871 [==============================] - 5s 6ms/step - loss: 0.0303 - val_loss: 0.0057\n",
      "Epoch 87/200\n",
      "871/871 [==============================] - 5s 6ms/step - loss: 0.0303 - val_loss: 0.0054\n",
      "Epoch 88/200\n",
      "871/871 [==============================] - 5s 6ms/step - loss: 0.0303 - val_loss: 0.0053\n",
      "Epoch 89/200\n",
      "871/871 [==============================] - 5s 6ms/step - loss: 0.0303 - val_loss: 0.0051\n",
      "Epoch 90/200\n",
      "871/871 [==============================] - 5s 6ms/step - loss: 0.0303 - val_loss: 0.0057\n",
      "Epoch 91/200\n",
      "871/871 [==============================] - 5s 6ms/step - loss: 0.0303 - val_loss: 0.0053\n",
      "Epoch 92/200\n",
      "871/871 [==============================] - 5s 6ms/step - loss: 0.0303 - val_loss: 0.0056\n",
      "Epoch 93/200\n",
      "871/871 [==============================] - 5s 6ms/step - loss: 0.0303 - val_loss: 0.0057\n",
      "Epoch 94/200\n",
      "871/871 [==============================] - 5s 6ms/step - loss: 0.0303 - val_loss: 0.0051\n",
      "Epoch 95/200\n",
      "871/871 [==============================] - 5s 6ms/step - loss: 0.0303 - val_loss: 0.0058\n",
      "Epoch 96/200\n",
      "871/871 [==============================] - 5s 6ms/step - loss: 0.0303 - val_loss: 0.0054\n",
      "Epoch 97/200\n",
      "871/871 [==============================] - 6s 6ms/step - loss: 0.0303 - val_loss: 0.0057\n",
      "Epoch 98/200\n",
      "871/871 [==============================] - 5s 6ms/step - loss: 0.0303 - val_loss: 0.0056\n",
      "Epoch 99/200\n",
      "871/871 [==============================] - 5s 6ms/step - loss: 0.0303 - val_loss: 0.0064\n",
      "Epoch 100/200\n",
      "871/871 [==============================] - 5s 6ms/step - loss: 0.0303 - val_loss: 0.0053\n",
      "Epoch 101/200\n",
      "871/871 [==============================] - 5s 6ms/step - loss: 0.0303 - val_loss: 0.0051\n",
      "Epoch 102/200\n",
      "871/871 [==============================] - 5s 6ms/step - loss: 0.0303 - val_loss: 0.0055\n",
      "Epoch 103/200\n",
      "871/871 [==============================] - 5s 6ms/step - loss: 0.0303 - val_loss: 0.0056\n",
      "Epoch 104/200\n",
      "871/871 [==============================] - 5s 6ms/step - loss: 0.0303 - val_loss: 0.0051\n",
      "Epoch 105/200\n",
      "871/871 [==============================] - 5s 6ms/step - loss: 0.0303 - val_loss: 0.0061\n",
      "Epoch 106/200\n",
      "871/871 [==============================] - 5s 6ms/step - loss: 0.0303 - val_loss: 0.0059\n",
      "Epoch 107/200\n",
      "871/871 [==============================] - 5s 6ms/step - loss: 0.0303 - val_loss: 0.0053\n",
      "Epoch 108/200\n",
      "871/871 [==============================] - 5s 6ms/step - loss: 0.0303 - val_loss: 0.0059\n",
      "Epoch 109/200\n",
      "871/871 [==============================] - 5s 6ms/step - loss: 0.0303 - val_loss: 0.0058\n",
      "Epoch 110/200\n",
      "871/871 [==============================] - 5s 6ms/step - loss: 0.0303 - val_loss: 0.0056\n",
      "Epoch 111/200\n",
      "871/871 [==============================] - 5s 6ms/step - loss: 0.0303 - val_loss: 0.0054\n",
      "Epoch 112/200\n",
      "871/871 [==============================] - 5s 6ms/step - loss: 0.0303 - val_loss: 0.0050\n",
      "Epoch 113/200\n",
      "871/871 [==============================] - 5s 6ms/step - loss: 0.0303 - val_loss: 0.0052\n",
      "Epoch 114/200\n",
      "871/871 [==============================] - 5s 6ms/step - loss: 0.0303 - val_loss: 0.0059\n",
      "Epoch 115/200\n",
      "871/871 [==============================] - 5s 6ms/step - loss: 0.0303 - val_loss: 0.0055\n",
      "Epoch 116/200\n",
      "871/871 [==============================] - 5s 6ms/step - loss: 0.0303 - val_loss: 0.0051\n",
      "Epoch 117/200\n",
      "871/871 [==============================] - 5s 6ms/step - loss: 0.0303 - val_loss: 0.0058\n",
      "Epoch 118/200\n",
      "871/871 [==============================] - 5s 6ms/step - loss: 0.0303 - val_loss: 0.0057\n",
      "Epoch 119/200\n",
      "871/871 [==============================] - 5s 6ms/step - loss: 0.0303 - val_loss: 0.0054\n",
      "Epoch 120/200\n",
      "871/871 [==============================] - 5s 6ms/step - loss: 0.0303 - val_loss: 0.0055\n",
      "Epoch 121/200\n",
      "871/871 [==============================] - 6s 7ms/step - loss: 0.0303 - val_loss: 0.0060\n",
      "Epoch 122/200\n",
      "871/871 [==============================] - 6s 7ms/step - loss: 0.0303 - val_loss: 0.0055\n",
      "Epoch 123/200\n",
      "871/871 [==============================] - 6s 7ms/step - loss: 0.0303 - val_loss: 0.0060\n",
      "Epoch 124/200\n",
      "871/871 [==============================] - 6s 6ms/step - loss: 0.0303 - val_loss: 0.0055\n",
      "Epoch 125/200\n",
      "871/871 [==============================] - 6s 6ms/step - loss: 0.0303 - val_loss: 0.0055\n",
      "Epoch 126/200\n",
      "871/871 [==============================] - 5s 6ms/step - loss: 0.0303 - val_loss: 0.0053\n",
      "Epoch 127/200\n",
      "871/871 [==============================] - 5s 6ms/step - loss: 0.0303 - val_loss: 0.0056\n",
      "Epoch 128/200\n",
      "871/871 [==============================] - 5s 6ms/step - loss: 0.0303 - val_loss: 0.0055\n",
      "Epoch 129/200\n",
      "871/871 [==============================] - 5s 6ms/step - loss: 0.0303 - val_loss: 0.0049\n",
      "Epoch 130/200\n",
      "871/871 [==============================] - 5s 6ms/step - loss: 0.0303 - val_loss: 0.0059\n",
      "Epoch 131/200\n",
      "871/871 [==============================] - 5s 6ms/step - loss: 0.0303 - val_loss: 0.0059\n",
      "Epoch 132/200\n",
      "871/871 [==============================] - 5s 6ms/step - loss: 0.0303 - val_loss: 0.0057\n",
      "Epoch 133/200\n",
      "871/871 [==============================] - 6s 6ms/step - loss: 0.0303 - val_loss: 0.0056\n",
      "Epoch 134/200\n",
      "871/871 [==============================] - 6s 7ms/step - loss: 0.0303 - val_loss: 0.0060\n",
      "Epoch 135/200\n",
      "871/871 [==============================] - 6s 7ms/step - loss: 0.0303 - val_loss: 0.0059\n",
      "Epoch 136/200\n",
      "871/871 [==============================] - 6s 7ms/step - loss: 0.0303 - val_loss: 0.0057\n",
      "Epoch 137/200\n",
      "871/871 [==============================] - 6s 6ms/step - loss: 0.0303 - val_loss: 0.0058\n",
      "Epoch 138/200\n",
      "871/871 [==============================] - 5s 6ms/step - loss: 0.0303 - val_loss: 0.0051\n",
      "Epoch 139/200\n",
      "871/871 [==============================] - 6s 6ms/step - loss: 0.0303 - val_loss: 0.0056\n",
      "Epoch 140/200\n",
      "871/871 [==============================] - 5s 6ms/step - loss: 0.0303 - val_loss: 0.0056\n",
      "Epoch 141/200\n",
      "871/871 [==============================] - 6s 6ms/step - loss: 0.0303 - val_loss: 0.0055\n",
      "Epoch 142/200\n",
      "871/871 [==============================] - 5s 6ms/step - loss: 0.0303 - val_loss: 0.0055\n",
      "Epoch 143/200\n",
      "871/871 [==============================] - 5s 6ms/step - loss: 0.0303 - val_loss: 0.0058\n",
      "Epoch 144/200\n",
      "871/871 [==============================] - 5s 6ms/step - loss: 0.0303 - val_loss: 0.0058\n",
      "Epoch 145/200\n",
      "871/871 [==============================] - 6s 6ms/step - loss: 0.0303 - val_loss: 0.0062\n",
      "Epoch 146/200\n",
      "871/871 [==============================] - 6s 6ms/step - loss: 0.0303 - val_loss: 0.0056\n",
      "Epoch 147/200\n",
      "871/871 [==============================] - 6s 7ms/step - loss: 0.0303 - val_loss: 0.0055\n",
      "Epoch 148/200\n",
      "871/871 [==============================] - 6s 6ms/step - loss: 0.0303 - val_loss: 0.0062\n",
      "Epoch 149/200\n",
      "871/871 [==============================] - 6s 7ms/step - loss: 0.0303 - val_loss: 0.0055\n",
      "Epoch 150/200\n",
      "871/871 [==============================] - 5s 6ms/step - loss: 0.0303 - val_loss: 0.0057\n",
      "Epoch 151/200\n",
      "871/871 [==============================] - 6s 7ms/step - loss: 0.0303 - val_loss: 0.0055\n",
      "Epoch 152/200\n",
      "871/871 [==============================] - 7s 7ms/step - loss: 0.0303 - val_loss: 0.0050\n",
      "Epoch 153/200\n",
      "871/871 [==============================] - 6s 7ms/step - loss: 0.0303 - val_loss: 0.0058\n",
      "Epoch 154/200\n",
      "871/871 [==============================] - 6s 7ms/step - loss: 0.0303 - val_loss: 0.0054\n",
      "Epoch 155/200\n",
      "871/871 [==============================] - 5s 6ms/step - loss: 0.0303 - val_loss: 0.0056\n",
      "Epoch 156/200\n",
      "871/871 [==============================] - 5s 6ms/step - loss: 0.0303 - val_loss: 0.0054\n",
      "Epoch 157/200\n",
      "871/871 [==============================] - 5s 6ms/step - loss: 0.0303 - val_loss: 0.0054\n",
      "Epoch 158/200\n",
      "871/871 [==============================] - 6s 6ms/step - loss: 0.0303 - val_loss: 0.0058\n",
      "Epoch 159/200\n",
      "871/871 [==============================] - 6s 7ms/step - loss: 0.0303 - val_loss: 0.0056\n",
      "Epoch 160/200\n",
      "871/871 [==============================] - 6s 6ms/step - loss: 0.0303 - val_loss: 0.0053\n",
      "Epoch 161/200\n",
      "871/871 [==============================] - 6s 6ms/step - loss: 0.0303 - val_loss: 0.0056\n",
      "Epoch 162/200\n",
      "871/871 [==============================] - 6s 6ms/step - loss: 0.0303 - val_loss: 0.0052\n",
      "Epoch 163/200\n",
      "871/871 [==============================] - 5s 6ms/step - loss: 0.0303 - val_loss: 0.0059\n",
      "Epoch 164/200\n",
      "871/871 [==============================] - 5s 6ms/step - loss: 0.0303 - val_loss: 0.0057\n",
      "Epoch 165/200\n",
      "871/871 [==============================] - 5s 6ms/step - loss: 0.0303 - val_loss: 0.0054\n",
      "Epoch 166/200\n",
      "871/871 [==============================] - 5s 6ms/step - loss: 0.0303 - val_loss: 0.0060\n",
      "Epoch 167/200\n",
      "871/871 [==============================] - 6s 7ms/step - loss: 0.0303 - val_loss: 0.0052\n",
      "Epoch 168/200\n",
      "871/871 [==============================] - 6s 7ms/step - loss: 0.0303 - val_loss: 0.0057\n",
      "Epoch 169/200\n",
      "871/871 [==============================] - 6s 6ms/step - loss: 0.0303 - val_loss: 0.0064\n",
      "Epoch 170/200\n",
      "871/871 [==============================] - 6s 6ms/step - loss: 0.0303 - val_loss: 0.0060\n",
      "Epoch 171/200\n",
      "871/871 [==============================] - 6s 7ms/step - loss: 0.0303 - val_loss: 0.0053\n",
      "Epoch 172/200\n",
      "871/871 [==============================] - 6s 7ms/step - loss: 0.0303 - val_loss: 0.0059\n",
      "Epoch 173/200\n",
      "871/871 [==============================] - 6s 7ms/step - loss: 0.0303 - val_loss: 0.0057\n",
      "Epoch 174/200\n",
      "871/871 [==============================] - 6s 7ms/step - loss: 0.0303 - val_loss: 0.0056\n",
      "Epoch 175/200\n",
      "871/871 [==============================] - 6s 7ms/step - loss: 0.0303 - val_loss: 0.0052\n",
      "Epoch 176/200\n",
      "871/871 [==============================] - 6s 7ms/step - loss: 0.0303 - val_loss: 0.0053\n",
      "Epoch 177/200\n",
      "871/871 [==============================] - 6s 7ms/step - loss: 0.0303 - val_loss: 0.0057\n",
      "Epoch 178/200\n",
      "871/871 [==============================] - 6s 7ms/step - loss: 0.0303 - val_loss: 0.0059\n",
      "Epoch 179/200\n",
      "871/871 [==============================] - 6s 7ms/step - loss: 0.0303 - val_loss: 0.0054\n",
      "Epoch 180/200\n",
      "871/871 [==============================] - 6s 7ms/step - loss: 0.0303 - val_loss: 0.0054\n",
      "Epoch 181/200\n",
      "871/871 [==============================] - 6s 6ms/step - loss: 0.0303 - val_loss: 0.0055\n",
      "Epoch 182/200\n",
      "871/871 [==============================] - 6s 7ms/step - loss: 0.0303 - val_loss: 0.0052\n",
      "Epoch 183/200\n",
      "871/871 [==============================] - 6s 6ms/step - loss: 0.0303 - val_loss: 0.0062\n",
      "Epoch 184/200\n",
      "871/871 [==============================] - 6s 6ms/step - loss: 0.0303 - val_loss: 0.0054\n",
      "Epoch 185/200\n",
      "871/871 [==============================] - 6s 7ms/step - loss: 0.0303 - val_loss: 0.0055\n",
      "Epoch 186/200\n",
      "871/871 [==============================] - 6s 7ms/step - loss: 0.0303 - val_loss: 0.0059\n",
      "Epoch 187/200\n",
      "871/871 [==============================] - 6s 7ms/step - loss: 0.0303 - val_loss: 0.0058\n",
      "Epoch 188/200\n",
      "871/871 [==============================] - 5s 6ms/step - loss: 0.0303 - val_loss: 0.0055\n",
      "Epoch 189/200\n",
      "871/871 [==============================] - 5s 6ms/step - loss: 0.0303 - val_loss: 0.0056\n",
      "Epoch 190/200\n",
      "871/871 [==============================] - 6s 6ms/step - loss: 0.0303 - val_loss: 0.0056\n",
      "Epoch 191/200\n",
      "871/871 [==============================] - 6s 7ms/step - loss: 0.0303 - val_loss: 0.0054\n",
      "Epoch 192/200\n",
      "871/871 [==============================] - 5s 6ms/step - loss: 0.0303 - val_loss: 0.0053\n",
      "Epoch 193/200\n",
      "871/871 [==============================] - 5s 6ms/step - loss: 0.0303 - val_loss: 0.0056\n",
      "Epoch 194/200\n",
      "871/871 [==============================] - 6s 6ms/step - loss: 0.0303 - val_loss: 0.0059\n",
      "Epoch 195/200\n",
      "871/871 [==============================] - 5s 6ms/step - loss: 0.0303 - val_loss: 0.0056\n",
      "Epoch 196/200\n",
      "871/871 [==============================] - 5s 6ms/step - loss: 0.0303 - val_loss: 0.0053\n",
      "Epoch 197/200\n",
      "871/871 [==============================] - 5s 6ms/step - loss: 0.0303 - val_loss: 0.0057\n",
      "Epoch 198/200\n",
      "871/871 [==============================] - 5s 6ms/step - loss: 0.0303 - val_loss: 0.0053\n",
      "Epoch 199/200\n",
      "871/871 [==============================] - 5s 6ms/step - loss: 0.0303 - val_loss: 0.0058\n",
      "Epoch 200/200\n",
      "871/871 [==============================] - 5s 6ms/step - loss: 0.0303 - val_loss: 0.0058\n"
     ]
    }
   ],
   "source": [
    "history = model.fit(X_train,y_train,validation_data=(X_test,y_test),epochs=200,batch_size=32,verbose=1)"
   ]
  },
  {
   "cell_type": "code",
   "execution_count": 84,
   "metadata": {},
   "outputs": [
    {
     "data": {
      "image/png": "[encoded data removed]",
      "text/plain": [
       "<Figure size 640x480 with 1 Axes>"
      ]
     },
     "metadata": {},
     "output_type": "display_data"
    },
    {
     "data": {
      "text/plain": [
       "<Figure size 640x480 with 0 Axes>"
      ]
     },
     "metadata": {},
     "output_type": "display_data"
    }
   ],
   "source": [
    "loss = history.history['loss']\n",
    "val_loss = history.history['val_loss']\n",
    "\n",
    "epochs = range(len(loss))\n",
    "\n",
    "plt.plot(epochs, loss, 'r', label='Training loss')\n",
    "plt.plot(epochs, val_loss, 'b', label='Validation loss')\n",
    "plt.title('Training and validation loss')\n",
    "plt.legend(loc=0)\n",
    "plt.figure()\n",
    "\n",
    "\n",
    "plt.show()"
   ]
  },
  {
   "cell_type": "code",
   "execution_count": 38,
   "metadata": {},
   "outputs": [
    {
     "name": "stdout",
     "output_type": "stream",
     "text": [
      "871/871 [==============================] - 1s 567us/step\n",
      "218/218 [==============================] - 0s 575us/step\n"
     ]
    }
   ],
   "source": [
    "train_predict=model.predict(X_train)\n",
    "test_predict=model.predict(X_test)\n",
    "train_predict = scaler.inverse_transform(train_predict)\n",
    "test_predict = scaler.inverse_transform(test_predict)\n",
    "original_ytrain = scaler.inverse_transform(y_train.reshape(-1,1)) \n",
    "original_ytest = scaler.inverse_transform(y_test.reshape(-1,1)) "
   ]
  },
  {
   "cell_type": "code",
   "execution_count": 39,
   "metadata": {},
   "outputs": [],
   "source": [
    "from sklearn.metrics import mean_squared_error, mean_absolute_error\n",
    "import math"
   ]
  },
  {
   "cell_type": "code",
   "execution_count": 40,
   "metadata": {},
   "outputs": [
    {
     "name": "stdout",
     "output_type": "stream",
     "text": [
      "Train data RMSE:  30.828242828085436\n",
      "Train data MSE:  950.3805558674012\n",
      "Train data MAE:  15.677729524044132\n",
      "Test data RMSE:  20.609486978461984\n",
      "Test data MSE:  424.75095351539414\n",
      "Test data MAE:  12.629014113910698\n"
     ]
    }
   ],
   "source": [
    "print(\"Train data RMSE: \", math.sqrt(mean_squared_error(original_ytrain,train_predict)))\n",
    "print(\"Train data MSE: \", mean_squared_error(original_ytrain,train_predict))\n",
    "print(\"Train data MAE: \", mean_absolute_error(original_ytrain,train_predict))\n",
    "print(\"Test data RMSE: \", math.sqrt(mean_squared_error(original_ytest,test_predict)))\n",
    "print(\"Test data MSE: \", mean_squared_error(original_ytest,test_predict))\n",
    "print(\"Test data MAE: \", mean_absolute_error(original_ytest,test_predict))"
   ]
  },
  {
   "cell_type": "code",
   "execution_count": 41,
   "metadata": {},
   "outputs": [],
   "source": [
    "from sklearn.model_selection import GridSearchCV\n",
    "from statsmodels.tsa.arima.model import ARIMA\n",
    "from statsmodels.tsa.statespace.sarimax import SARIMAX"
   ]
  },
  {
   "cell_type": "code",
   "execution_count": 42,
   "metadata": {},
   "outputs": [
    {
     "name": "stderr",
     "output_type": "stream",
     "text": [
      "/Users/utsavacharya/Desktop/Projects/VoltVision/venv/lib/python3.10/site-packages/statsmodels/tsa/statespace/sarimax.py:978: UserWarning: Non-invertible starting MA parameters found. Using zeros as starting parameters.\n",
      "  warn('Non-invertible starting MA parameters found.'\n",
      "/Users/utsavacharya/Desktop/Projects/VoltVision/venv/lib/python3.10/site-packages/statsmodels/tsa/statespace/sarimax.py:966: UserWarning: Non-stationary starting autoregressive parameters found. Using zeros as starting parameters.\n",
      "  warn('Non-stationary starting autoregressive parameters'\n",
      "/Users/utsavacharya/Desktop/Projects/VoltVision/venv/lib/python3.10/site-packages/statsmodels/base/model.py:607: ConvergenceWarning: Maximum Likelihood optimization failed to converge. Check mle_retvals\n",
      "  warnings.warn(\"Maximum Likelihood optimization failed to \"\n",
      "/Users/utsavacharya/Desktop/Projects/VoltVision/venv/lib/python3.10/site-packages/statsmodels/base/model.py:607: ConvergenceWarning: Maximum Likelihood optimization failed to converge. Check mle_retvals\n",
      "  warnings.warn(\"Maximum Likelihood optimization failed to \"\n",
      "/Users/utsavacharya/Desktop/Projects/VoltVision/venv/lib/python3.10/site-packages/statsmodels/base/model.py:607: ConvergenceWarning: Maximum Likelihood optimization failed to converge. Check mle_retvals\n",
      "  warnings.warn(\"Maximum Likelihood optimization failed to \"\n"
     ]
    }
   ],
   "source": [
    "p_values = [0, 1, 2]\n",
    "d_values = [0, 1]\n",
    "q_values = [0, 1, 2]\n",
    "pdq_combinations = [(p, d, q) for p in p_values for d in d_values for q in q_values]\n",
    "\n",
    "def evaluate_arima_models(data, pdq_combinations):\n",
    "    results = []\n",
    "    for pdq in pdq_combinations:\n",
    "        try:\n",
    "            model = ARIMA(data, order=pdq)\n",
    "            model_fit = model.fit()\n",
    "            aic = model_fit.aic\n",
    "            results.append((pdq, aic))\n",
    "        except:\n",
    "            continue\n",
    "    return results\n",
    "\n",
    "results = evaluate_arima_models(df_train, pdq_combinations)\n",
    "best_aic = min(results, key=lambda x: x[1])[1]\n",
    "best_pdq = [result[0] for result in results if result[1] == best_aic][0]\n"
   ]
  },
  {
   "cell_type": "code",
   "execution_count": 43,
   "metadata": {},
   "outputs": [
    {
     "name": "stdout",
     "output_type": "stream",
     "text": [
      "Best ARIMA parameters: (2, 1, 1)\n"
     ]
    }
   ],
   "source": [
    "print(\"Best ARIMA parameters:\", best_pdq)\n"
   ]
  },
  {
   "cell_type": "code",
   "execution_count": 44,
   "metadata": {},
   "outputs": [
    {
     "name": "stderr",
     "output_type": "stream",
     "text": [
      "/Users/utsavacharya/Desktop/Projects/VoltVision/venv/lib/python3.10/site-packages/statsmodels/base/model.py:607: ConvergenceWarning: Maximum Likelihood optimization failed to converge. Check mle_retvals\n",
      "  warnings.warn(\"Maximum Likelihood optimization failed to \"\n"
     ]
    }
   ],
   "source": [
    "model = ARIMA(df_train, order=best_pdq)\n",
    "model_fit = model.fit()"
   ]
  },
  {
   "cell_type": "code",
   "execution_count": 45,
   "metadata": {},
   "outputs": [
    {
     "data": {
      "text/html": [
       "<table class=\"simpletable\">\n",
       "<caption>SARIMAX Results</caption>\n",
       "<tr>\n",
       "  <th>Dep. Variable:</th>           <td>y</td>        <th>  No. Observations:  </th>    <td>27860</td>  \n",
       "</tr>\n",
       "<tr>\n",
       "  <th>Model:</th>            <td>ARIMA(2, 1, 1)</td>  <th>  Log Likelihood     </th>  <td>46255.914</td>\n",
       "</tr>\n",
       "<tr>\n",
       "  <th>Date:</th>            <td>Thu, 18 Jan 2024</td> <th>  AIC                </th> <td>-92503.828</td>\n",
       "</tr>\n",
       "<tr>\n",
       "  <th>Time:</th>                <td>19:23:53</td>     <th>  BIC                </th> <td>-92470.888</td>\n",
       "</tr>\n",
       "<tr>\n",
       "  <th>Sample:</th>                  <td>0</td>        <th>  HQIC               </th> <td>-92493.221</td>\n",
       "</tr>\n",
       "<tr>\n",
       "  <th></th>                     <td> - 27860</td>     <th>                     </th>      <td> </td>    \n",
       "</tr>\n",
       "<tr>\n",
       "  <th>Covariance Type:</th>        <td>opg</td>       <th>                     </th>      <td> </td>    \n",
       "</tr>\n",
       "</table>\n",
       "<table class=\"simpletable\">\n",
       "<tr>\n",
       "     <td></td>       <th>coef</th>     <th>std err</th>      <th>z</th>      <th>P>|z|</th>  <th>[0.025</th>    <th>0.975]</th>  \n",
       "</tr>\n",
       "<tr>\n",
       "  <th>ar.L1</th>  <td>    1.0048</td> <td>    0.003</td> <td>  393.956</td> <td> 0.000</td> <td>    1.000</td> <td>    1.010</td>\n",
       "</tr>\n",
       "<tr>\n",
       "  <th>ar.L2</th>  <td>   -0.0859</td> <td>    0.002</td> <td>  -41.219</td> <td> 0.000</td> <td>   -0.090</td> <td>   -0.082</td>\n",
       "</tr>\n",
       "<tr>\n",
       "  <th>ma.L1</th>  <td>   -0.9968</td> <td>    0.000</td> <td>-2373.747</td> <td> 0.000</td> <td>   -0.998</td> <td>   -0.996</td>\n",
       "</tr>\n",
       "<tr>\n",
       "  <th>sigma2</th> <td>    0.0021</td> <td> 5.57e-06</td> <td>  379.824</td> <td> 0.000</td> <td>    0.002</td> <td>    0.002</td>\n",
       "</tr>\n",
       "</table>\n",
       "<table class=\"simpletable\">\n",
       "<tr>\n",
       "  <th>Ljung-Box (L1) (Q):</th>     <td>0.20</td>  <th>  Jarque-Bera (JB):  </th> <td>1903445.31</td>\n",
       "</tr>\n",
       "<tr>\n",
       "  <th>Prob(Q):</th>                <td>0.66</td>  <th>  Prob(JB):          </th>    <td>0.00</td>   \n",
       "</tr>\n",
       "<tr>\n",
       "  <th>Heteroskedasticity (H):</th> <td>52.11</td> <th>  Skew:              </th>    <td>-0.57</td>  \n",
       "</tr>\n",
       "<tr>\n",
       "  <th>Prob(H) (two-sided):</th>    <td>0.00</td>  <th>  Kurtosis:          </th>    <td>43.48</td>  \n",
       "</tr>\n",
       "</table><br/><br/>Warnings:<br/>[1] Covariance matrix calculated using the outer product of gradients (complex-step)."
      ],
      "text/latex": [
       "\\begin{center}\n",
       "\\begin{tabular}{lclc}\n",
       "\\toprule\n",
       "\\textbf{Dep. Variable:}          &        y         & \\textbf{  No. Observations:  } &   27860     \\\\\n",
       "\\textbf{Model:}                  &  ARIMA(2, 1, 1)  & \\textbf{  Log Likelihood     } & 46255.914   \\\\\n",
       "\\textbf{Date:}                   & Thu, 18 Jan 2024 & \\textbf{  AIC                } & -92503.828  \\\\\n",
       "\\textbf{Time:}                   &     19:23:53     & \\textbf{  BIC                } & -92470.888  \\\\\n",
       "\\textbf{Sample:}                 &        0         & \\textbf{  HQIC               } & -92493.221  \\\\\n",
       "\\textbf{}                        &      - 27860     & \\textbf{                     } &             \\\\\n",
       "\\textbf{Covariance Type:}        &       opg        & \\textbf{                     } &             \\\\\n",
       "\\bottomrule\n",
       "\\end{tabular}\n",
       "\\begin{tabular}{lcccccc}\n",
       "                & \\textbf{coef} & \\textbf{std err} & \\textbf{z} & \\textbf{P$> |$z$|$} & \\textbf{[0.025} & \\textbf{0.975]}  \\\\\n",
       "\\midrule\n",
       "\\textbf{ar.L1}  &       1.0048  &        0.003     &   393.956  &         0.000        &        1.000    &        1.010     \\\\\n",
       "\\textbf{ar.L2}  &      -0.0859  &        0.002     &   -41.219  &         0.000        &       -0.090    &       -0.082     \\\\\n",
       "\\textbf{ma.L1}  &      -0.9968  &        0.000     & -2373.747  &         0.000        &       -0.998    &       -0.996     \\\\\n",
       "\\textbf{sigma2} &       0.0021  &     5.57e-06     &   379.824  &         0.000        &        0.002    &        0.002     \\\\\n",
       "\\bottomrule\n",
       "\\end{tabular}\n",
       "\\begin{tabular}{lclc}\n",
       "\\textbf{Ljung-Box (L1) (Q):}     &  0.20 & \\textbf{  Jarque-Bera (JB):  } & 1903445.31  \\\\\n",
       "\\textbf{Prob(Q):}                &  0.66 & \\textbf{  Prob(JB):          } &    0.00     \\\\\n",
       "\\textbf{Heteroskedasticity (H):} & 52.11 & \\textbf{  Skew:              } &   -0.57     \\\\\n",
       "\\textbf{Prob(H) (two-sided):}    &  0.00 & \\textbf{  Kurtosis:          } &   43.48     \\\\\n",
       "\\bottomrule\n",
       "\\end{tabular}\n",
       "%\\caption{SARIMAX Results}\n",
       "\\end{center}\n",
       "\n",
       "Warnings: \\newline\n",
       " [1] Covariance matrix calculated using the outer product of gradients (complex-step)."
      ],
      "text/plain": [
       "<class 'statsmodels.iolib.summary.Summary'>\n",
       "\"\"\"\n",
       "                               SARIMAX Results                                \n",
       "==============================================================================\n",
       "Dep. Variable:                      y   No. Observations:                27860\n",
       "Model:                 ARIMA(2, 1, 1)   Log Likelihood               46255.914\n",
       "Date:                Thu, 18 Jan 2024   AIC                         -92503.828\n",
       "Time:                        19:23:53   BIC                         -92470.888\n",
       "Sample:                             0   HQIC                        -92493.221\n",
       "                              - 27860                                         \n",
       "Covariance Type:                  opg                                         \n",
       "==============================================================================\n",
       "                 coef    std err          z      P>|z|      [0.025      0.975]\n",
       "------------------------------------------------------------------------------\n",
       "ar.L1          1.0048      0.003    393.956      0.000       1.000       1.010\n",
       "ar.L2         -0.0859      0.002    -41.219      0.000      -0.090      -0.082\n",
       "ma.L1         -0.9968      0.000  -2373.747      0.000      -0.998      -0.996\n",
       "sigma2         0.0021   5.57e-06    379.824      0.000       0.002       0.002\n",
       "===================================================================================\n",
       "Ljung-Box (L1) (Q):                   0.20   Jarque-Bera (JB):           1903445.31\n",
       "Prob(Q):                              0.66   Prob(JB):                         0.00\n",
       "Heteroskedasticity (H):              52.11   Skew:                            -0.57\n",
       "Prob(H) (two-sided):                  0.00   Kurtosis:                        43.48\n",
       "===================================================================================\n",
       "\n",
       "Warnings:\n",
       "[1] Covariance matrix calculated using the outer product of gradients (complex-step).\n",
       "\"\"\""
      ]
     },
     "execution_count": 45,
     "metadata": {},
     "output_type": "execute_result"
    }
   ],
   "source": [
    "model_fit.summary()"
   ]
  },
  {
   "cell_type": "code",
   "execution_count": 46,
   "metadata": {},
   "outputs": [],
   "source": [
    "df_predict = model_fit.predict(start=len(df_train), end=len(df_price)-1)"
   ]
  },
  {
   "cell_type": "code",
   "execution_count": 47,
   "metadata": {},
   "outputs": [
    {
     "data": {
      "text/plain": [
       "0.0041113118964498955"
      ]
     },
     "execution_count": 47,
     "metadata": {},
     "output_type": "execute_result"
    }
   ],
   "source": [
    "mean_squared_error(df_test, df_predict)"
   ]
  },
  {
   "cell_type": "code",
   "execution_count": 48,
   "metadata": {},
   "outputs": [
    {
     "data": {
      "image/png": "[encoded data removed]",
      "text/plain": [
       "<Figure size 640x480 with 1 Axes>"
      ]
     },
     "execution_count": 48,
     "metadata": {},
     "output_type": "execute_result"
    },
    {
     "data": {
      "image/png": "[encoded data removed]",
      "text/plain": [
       "<Figure size 640x480 with 1 Axes>"
      ]
     },
     "metadata": {},
     "output_type": "display_data"
    },
    {
     "data": {
      "image/png": "[encoded data removed]",
      "text/plain": [
       "<Figure size 640x480 with 1 Axes>"
      ]
     },
     "metadata": {},
     "output_type": "display_data"
    },
    {
     "data": {
      "image/png": "[encoded data removed]",
      "text/plain": [
       "<Figure size 640x480 with 1 Axes>"
      ]
     },
     "metadata": {},
     "output_type": "display_data"
    },
    {
     "data": {
      "image/png": "[encoded data removed]",
      "text/plain": [
       "<Figure size 640x480 with 1 Axes>"
      ]
     },
     "metadata": {},
     "output_type": "display_data"
    }
   ],
   "source": [
    "\n",
    "from statsmodels.graphics.tsaplots import plot_acf, plot_pacf\n",
    "\n",
    "plot_acf(df_train, lags=40) \n",
    "plot_pacf(df_train, lags=40)\n",
    "\n",
    "series_diff = pd.DataFrame(df_train).diff().dropna() \n",
    "\n",
    "plot_acf(series_diff, lags=40)\n",
    "plot_pacf(series_diff, lags=40)"
   ]
  },
  {
   "cell_type": "code",
   "execution_count": 49,
   "metadata": {},
   "outputs": [
    {
     "name": "stderr",
     "output_type": "stream",
     "text": [
      "/var/folders/hg/n24r9jj93w7fwkd71c03mj9h0000gn/T/ipykernel_11155/627328596.py:9: InterpolationWarning: The test statistic is outside of the range of p-values available in the\n",
      "look-up table. The actual p-value is greater than the p-value returned.\n",
      "\n",
      "  kpss_result = kpss(series_diff, regression='c')\n",
      "/var/folders/hg/n24r9jj93w7fwkd71c03mj9h0000gn/T/ipykernel_11155/627328596.py:9: InterpolationWarning: The test statistic is outside of the range of p-values available in the\n",
      "look-up table. The actual p-value is greater than the p-value returned.\n",
      "\n",
      "  kpss_result = kpss(series_diff, regression='c')\n",
      "/var/folders/hg/n24r9jj93w7fwkd71c03mj9h0000gn/T/ipykernel_11155/627328596.py:9: InterpolationWarning: The test statistic is outside of the range of p-values available in the\n",
      "look-up table. The actual p-value is greater than the p-value returned.\n",
      "\n",
      "  kpss_result = kpss(series_diff, regression='c')\n"
     ]
    }
   ],
   "source": [
    "from statsmodels.tsa.stattools import kpss\n",
    "potential_m_values = [7, 12, 24]  \n",
    "best_m = None\n",
    "best_kpss_stat = float('inf')\n",
    "\n",
    "for m in potential_m_values:\n",
    "    series_diff = pd.DataFrame(df_train).diff(m).dropna()\n",
    "\n",
    "    kpss_result = kpss(series_diff, regression='c')  \n",
    "    kpss_stat = kpss_result[0]\n",
    "    p_value = kpss_result[1]\n",
    "\n",
    "    if kpss_stat < best_kpss_stat and p_value > 0.05:\n",
    "        best_m = m\n",
    "        best_kpss_stat = kpss_stat\n",
    "\n"
   ]
  },
  {
   "cell_type": "code",
   "execution_count": 50,
   "metadata": {},
   "outputs": [
    {
     "name": "stdout",
     "output_type": "stream",
     "text": [
      "Best m value based on KPSS test: 7\n"
     ]
    }
   ],
   "source": [
    "print(\"Best m value based on KPSS test:\", best_m)"
   ]
  },
  {
   "cell_type": "code",
   "execution_count": null,
   "metadata": {},
   "outputs": [],
   "source": []
  },
  {
   "cell_type": "code",
   "execution_count": 36,
   "metadata": {},
   "outputs": [
    {
     "name": "stderr",
     "output_type": "stream",
     "text": [
      "/Users/utsavacharya/Desktop/Projects/VoltVision/venv/lib/python3.10/site-packages/statsmodels/tsa/statespace/sarimax.py:966: UserWarning: Non-stationary starting autoregressive parameters found. Using zeros as starting parameters.\n",
      "  warn('Non-stationary starting autoregressive parameters'\n",
      "/Users/utsavacharya/Desktop/Projects/VoltVision/venv/lib/python3.10/site-packages/statsmodels/tsa/statespace/sarimax.py:978: UserWarning: Non-invertible starting MA parameters found. Using zeros as starting parameters.\n",
      "  warn('Non-invertible starting MA parameters found.'\n",
      " This problem is unconstrained.\n"
     ]
    },
    {
     "name": "stdout",
     "output_type": "stream",
     "text": [
      "RUNNING THE L-BFGS-B CODE\n",
      "\n",
      "           * * *\n",
      "\n",
      "Machine precision = 2.220D-16\n",
      " N =            4     M =           10\n",
      "\n",
      "At X0         0 variables are exactly at the bounds\n",
      "\n",
      "At iterate    0    f= -1.63893D+00    |proj g|=  8.82726D-02\n",
      "\n",
      "At iterate    5    f= -1.64025D+00    |proj g|=  1.38714D-02\n",
      "\n",
      "At iterate   10    f= -1.64026D+00    |proj g|=  1.24336D-01\n",
      "\n",
      "At iterate   15    f= -1.64033D+00    |proj g|=  6.80936D-03\n",
      "\n",
      "At iterate   20    f= -1.64033D+00    |proj g|=  5.00790D-02\n",
      "\n",
      "At iterate   25    f= -1.64159D+00    |proj g|=  1.81736D+00\n",
      "\n",
      "At iterate   30    f= -1.64553D+00    |proj g|=  4.53924D-01\n",
      "\n",
      "At iterate   35    f= -1.65257D+00    |proj g|=  2.65215D-01\n",
      "\n",
      "At iterate   40    f= -1.65821D+00    |proj g|=  1.30821D-02\n",
      "\n",
      "At iterate   45    f= -1.65886D+00    |proj g|=  4.01159D-02\n",
      "\n",
      "At iterate   50    f= -1.66030D+00    |proj g|=  4.75782D-04\n",
      "\n",
      "           * * *\n",
      "\n",
      "Tit   = total number of iterations\n",
      "Tnf   = total number of function evaluations\n",
      "Tnint = total number of segments explored during Cauchy searches\n",
      "Skip  = number of BFGS updates skipped\n",
      "Nact  = number of active bounds at final generalized Cauchy point\n",
      "Projg = norm of the final projected gradient\n",
      "F     = final function value\n",
      "\n",
      "           * * *\n",
      "\n",
      "   N    Tit     Tnf  Tnint  Skip  Nact     Projg        F\n",
      "    4     50     72      1     0     0   4.758D-04  -1.660D+00\n",
      "  F =  -1.6602984170728652     \n",
      "\n",
      "STOP: TOTAL NO. of ITERATIONS REACHED LIMIT                 \n"
     ]
    },
    {
     "name": "stderr",
     "output_type": "stream",
     "text": [
      "/Users/utsavacharya/Desktop/Projects/VoltVision/venv/lib/python3.10/site-packages/statsmodels/base/model.py:607: ConvergenceWarning: Maximum Likelihood optimization failed to converge. Check mle_retvals\n",
      "  warnings.warn(\"Maximum Likelihood optimization failed to \"\n"
     ]
    },
    {
     "name": "stdout",
     "output_type": "stream",
     "text": [
      "RUNNING THE L-BFGS-B CODE\n",
      "\n",
      "           * * *\n",
      "\n",
      "Machine precision = 2.220D-16\n",
      " N =            5     M =           10\n",
      "\n",
      "At X0         0 variables are exactly at the bounds\n",
      "\n",
      "At iterate    0    f= -1.64406D+00    |proj g|=  1.30660D-01\n"
     ]
    },
    {
     "name": "stderr",
     "output_type": "stream",
     "text": [
      " This problem is unconstrained.\n"
     ]
    },
    {
     "name": "stdout",
     "output_type": "stream",
     "text": [
      "\n",
      "At iterate    5    f= -1.64516D+00    |proj g|=  4.66372D-01\n",
      "\n",
      "At iterate   10    f= -1.64531D+00    |proj g|=  7.60195D-02\n",
      "\n",
      "At iterate   15    f= -1.64546D+00    |proj g|=  1.13627D-01\n",
      "\n",
      "At iterate   20    f= -1.64548D+00    |proj g|=  5.16303D-03\n",
      "\n",
      "At iterate   25    f= -1.64548D+00    |proj g|=  1.15420D-02\n",
      "\n",
      "At iterate   30    f= -1.64551D+00    |proj g|=  1.27100D-02\n",
      "\n",
      "At iterate   35    f= -1.65344D+00    |proj g|=  1.22540D+00\n",
      "\n",
      "At iterate   40    f= -1.65869D+00    |proj g|=  1.09135D-01\n",
      "\n",
      "At iterate   45    f= -1.66026D+00    |proj g|=  2.73049D-02\n"
     ]
    },
    {
     "name": "stderr",
     "output_type": "stream",
     "text": [
      "/Users/utsavacharya/Desktop/Projects/VoltVision/venv/lib/python3.10/site-packages/statsmodels/base/model.py:607: ConvergenceWarning: Maximum Likelihood optimization failed to converge. Check mle_retvals\n",
      "  warnings.warn(\"Maximum Likelihood optimization failed to \"\n"
     ]
    },
    {
     "name": "stdout",
     "output_type": "stream",
     "text": [
      "\n",
      "At iterate   50    f= -1.66195D+00    |proj g|=  1.07096D-01\n",
      "\n",
      "           * * *\n",
      "\n",
      "Tit   = total number of iterations\n",
      "Tnf   = total number of function evaluations\n",
      "Tnint = total number of segments explored during Cauchy searches\n",
      "Skip  = number of BFGS updates skipped\n",
      "Nact  = number of active bounds at final generalized Cauchy point\n",
      "Projg = norm of the final projected gradient\n",
      "F     = final function value\n",
      "\n",
      "           * * *\n",
      "\n",
      "   N    Tit     Tnf  Tnint  Skip  Nact     Projg        F\n",
      "    5     50     62      1     0     0   1.071D-01  -1.662D+00\n",
      "  F =  -1.6619494977992670     \n",
      "\n",
      "STOP: TOTAL NO. of ITERATIONS REACHED LIMIT                 \n"
     ]
    },
    {
     "name": "stderr",
     "output_type": "stream",
     "text": [
      " This problem is unconstrained.\n"
     ]
    },
    {
     "name": "stdout",
     "output_type": "stream",
     "text": [
      "RUNNING THE L-BFGS-B CODE\n",
      "\n",
      "           * * *\n",
      "\n",
      "Machine precision = 2.220D-16\n",
      " N =            6     M =           10\n",
      "\n",
      "At X0         0 variables are exactly at the bounds\n",
      "\n",
      "At iterate    0    f= -1.64230D+00    |proj g|=  5.53820D-02\n",
      "\n",
      "At iterate    5    f= -1.64500D+00    |proj g|=  3.54342D-02\n",
      "\n",
      "At iterate   10    f= -1.64511D+00    |proj g|=  3.39964D-01\n",
      "\n",
      "At iterate   15    f= -1.64548D+00    |proj g|=  4.74946D-03\n",
      "\n",
      "At iterate   20    f= -1.64548D+00    |proj g|=  9.54038D-03\n",
      "\n",
      "At iterate   25    f= -1.64549D+00    |proj g|=  5.32826D-03\n",
      "\n",
      "At iterate   30    f= -1.64550D+00    |proj g|=  5.30639D-03\n",
      "\n",
      "At iterate   35    f= -1.64613D+00    |proj g|=  8.76139D-02\n",
      "\n",
      "At iterate   40    f= -1.65399D+00    |proj g|=  1.10027D-01\n",
      "\n",
      "At iterate   45    f= -1.65935D+00    |proj g|=  5.37434D-03\n"
     ]
    },
    {
     "name": "stderr",
     "output_type": "stream",
     "text": [
      "/Users/utsavacharya/Desktop/Projects/VoltVision/venv/lib/python3.10/site-packages/statsmodels/base/model.py:607: ConvergenceWarning: Maximum Likelihood optimization failed to converge. Check mle_retvals\n",
      "  warnings.warn(\"Maximum Likelihood optimization failed to \"\n"
     ]
    },
    {
     "name": "stdout",
     "output_type": "stream",
     "text": [
      "\n",
      "At iterate   50    f= -1.66051D+00    |proj g|=  3.20079D-01\n",
      "\n",
      "           * * *\n",
      "\n",
      "Tit   = total number of iterations\n",
      "Tnf   = total number of function evaluations\n",
      "Tnint = total number of segments explored during Cauchy searches\n",
      "Skip  = number of BFGS updates skipped\n",
      "Nact  = number of active bounds at final generalized Cauchy point\n",
      "Projg = norm of the final projected gradient\n",
      "F     = final function value\n",
      "\n",
      "           * * *\n",
      "\n",
      "   N    Tit     Tnf  Tnint  Skip  Nact     Projg        F\n",
      "    6     50     62      1     0     0   3.201D-01  -1.661D+00\n",
      "  F =  -1.6605145418808909     \n",
      "\n",
      "STOP: TOTAL NO. of ITERATIONS REACHED LIMIT                 \n",
      "RUNNING THE L-BFGS-B CODE\n",
      "\n",
      "           * * *\n",
      "\n",
      "Machine precision = 2.220D-16\n",
      " N =            4     M =           10\n",
      "\n",
      "At X0         0 variables are exactly at the bounds\n",
      "\n",
      "At iterate    0    f= -1.24257D+00    |proj g|=  2.03960D-01\n"
     ]
    },
    {
     "name": "stderr",
     "output_type": "stream",
     "text": [
      " This problem is unconstrained.\n"
     ]
    },
    {
     "name": "stdout",
     "output_type": "stream",
     "text": [
      "\n",
      "At iterate    5    f= -1.24950D+00    |proj g|=  1.10218D-01\n",
      "\n",
      "At iterate   10    f= -1.24952D+00    |proj g|=  2.51715D-02\n",
      "\n",
      "At iterate   15    f= -1.24953D+00    |proj g|=  3.92738D-03\n",
      "\n",
      "           * * *\n",
      "\n",
      "Tit   = total number of iterations\n",
      "Tnf   = total number of function evaluations\n",
      "Tnint = total number of segments explored during Cauchy searches\n",
      "Skip  = number of BFGS updates skipped\n",
      "Nact  = number of active bounds at final generalized Cauchy point\n",
      "Projg = norm of the final projected gradient\n",
      "F     = final function value\n",
      "\n",
      "           * * *\n",
      "\n",
      "   N    Tit     Tnf  Tnint  Skip  Nact     Projg        F\n",
      "    4     17     22      1     0     0   1.142D-04  -1.250D+00\n",
      "  F =  -1.2495266188666483     \n",
      "\n",
      "CONVERGENCE: REL_REDUCTION_OF_F_<=_FACTR*EPSMCH             \n"
     ]
    },
    {
     "name": "stderr",
     "output_type": "stream",
     "text": [
      " This problem is unconstrained.\n"
     ]
    },
    {
     "name": "stdout",
     "output_type": "stream",
     "text": [
      "RUNNING THE L-BFGS-B CODE\n",
      "\n",
      "           * * *\n",
      "\n",
      "Machine precision = 2.220D-16\n",
      " N =            5     M =           10\n",
      "\n",
      "At X0         0 variables are exactly at the bounds\n",
      "\n",
      "At iterate    0    f= -1.48364D+00    |proj g|=  6.75325D+00\n",
      "\n",
      "At iterate    5    f= -1.57094D+00    |proj g|=  1.17815D+00\n",
      "\n",
      "At iterate   10    f= -1.61717D+00    |proj g|=  4.40394D-01\n",
      "\n",
      "At iterate   15    f= -1.63309D+00    |proj g|=  8.35934D-01\n",
      "\n",
      "At iterate   20    f= -1.63726D+00    |proj g|=  3.11514D-01\n",
      "\n",
      "At iterate   25    f= -1.63864D+00    |proj g|=  2.78593D-01\n",
      "\n",
      "At iterate   30    f= -1.64197D+00    |proj g|=  1.27709D+00\n",
      "\n",
      "At iterate   35    f= -1.65132D+00    |proj g|=  3.83900D-01\n",
      "\n",
      "At iterate   40    f= -1.65594D+00    |proj g|=  4.55790D-01\n",
      "\n",
      "At iterate   45    f= -1.65685D+00    |proj g|=  7.30797D-02\n"
     ]
    },
    {
     "name": "stderr",
     "output_type": "stream",
     "text": [
      "\n",
      " Bad direction in the line search;\n",
      "   refresh the lbfgs memory and restart the iteration.\n"
     ]
    },
    {
     "name": "stdout",
     "output_type": "stream",
     "text": [
      "\n",
      "           * * *\n",
      "\n",
      "Tit   = total number of iterations\n",
      "Tnf   = total number of function evaluations\n",
      "Tnint = total number of segments explored during Cauchy searches\n",
      "Skip  = number of BFGS updates skipped\n",
      "Nact  = number of active bounds at final generalized Cauchy point\n",
      "Projg = norm of the final projected gradient\n",
      "F     = final function value\n",
      "\n",
      "           * * *\n",
      "\n",
      "   N    Tit     Tnf  Tnint  Skip  Nact     Projg        F\n",
      "    5     47     83      2     0     0   5.209D-03  -1.657D+00\n",
      "  F =  -1.6568747411146392     \n",
      "\n",
      "CONVERGENCE: REL_REDUCTION_OF_F_<=_FACTR*EPSMCH             \n"
     ]
    },
    {
     "name": "stderr",
     "output_type": "stream",
     "text": [
      " This problem is unconstrained.\n"
     ]
    },
    {
     "name": "stdout",
     "output_type": "stream",
     "text": [
      "RUNNING THE L-BFGS-B CODE\n",
      "\n",
      "           * * *\n",
      "\n",
      "Machine precision = 2.220D-16\n",
      " N =            6     M =           10\n",
      "\n",
      "At X0         0 variables are exactly at the bounds\n",
      "\n",
      "At iterate    0    f= -1.50191D+00    |proj g|=  7.28284D+00\n",
      "\n",
      "At iterate    5    f= -1.60172D+00    |proj g|=  7.36591D-01\n",
      "\n",
      "At iterate   10    f= -1.61123D+00    |proj g|=  6.81280D-02\n",
      "\n",
      "At iterate   15    f= -1.61215D+00    |proj g|=  5.08045D-01\n",
      "\n",
      "At iterate   20    f= -1.61280D+00    |proj g|=  5.22115D-01\n",
      "\n",
      "At iterate   25    f= -1.61594D+00    |proj g|=  4.64028D-01\n",
      "\n",
      "At iterate   30    f= -1.61665D+00    |proj g|=  3.89447D-01\n",
      "\n",
      "At iterate   35    f= -1.63541D+00    |proj g|=  1.27530D-01\n",
      "\n",
      "At iterate   40    f= -1.64242D+00    |proj g|=  1.03270D-01\n",
      "\n",
      "At iterate   45    f= -1.64731D+00    |proj g|=  1.64512D-01\n"
     ]
    },
    {
     "name": "stderr",
     "output_type": "stream",
     "text": [
      "/Users/utsavacharya/Desktop/Projects/VoltVision/venv/lib/python3.10/site-packages/statsmodels/base/model.py:607: ConvergenceWarning: Maximum Likelihood optimization failed to converge. Check mle_retvals\n",
      "  warnings.warn(\"Maximum Likelihood optimization failed to \"\n"
     ]
    },
    {
     "name": "stdout",
     "output_type": "stream",
     "text": [
      "\n",
      "At iterate   50    f= -1.65232D+00    |proj g|=  6.53182D-01\n",
      "\n",
      "           * * *\n",
      "\n",
      "Tit   = total number of iterations\n",
      "Tnf   = total number of function evaluations\n",
      "Tnint = total number of segments explored during Cauchy searches\n",
      "Skip  = number of BFGS updates skipped\n",
      "Nact  = number of active bounds at final generalized Cauchy point\n",
      "Projg = norm of the final projected gradient\n",
      "F     = final function value\n",
      "\n",
      "           * * *\n",
      "\n",
      "   N    Tit     Tnf  Tnint  Skip  Nact     Projg        F\n",
      "    6     50     64      1     0     0   6.532D-01  -1.652D+00\n",
      "  F =  -1.6523177940287805     \n",
      "\n",
      "STOP: TOTAL NO. of ITERATIONS REACHED LIMIT                 \n",
      "RUNNING THE L-BFGS-B CODE\n",
      "\n",
      "           * * *\n",
      "\n",
      "Machine precision = 2.220D-16\n",
      " N =            4     M =           10\n",
      "\n",
      "At X0         0 variables are exactly at the bounds\n",
      "\n",
      "At iterate    0    f= -6.76700D-01    |proj g|=  1.76747D-01\n"
     ]
    },
    {
     "name": "stderr",
     "output_type": "stream",
     "text": [
      " This problem is unconstrained.\n"
     ]
    },
    {
     "name": "stdout",
     "output_type": "stream",
     "text": [
      "\n",
      "At iterate    5    f= -6.87280D-01    |proj g|=  1.01626D-02\n",
      "\n",
      "At iterate   10    f= -6.87332D-01    |proj g|=  1.29936D-03\n"
     ]
    },
    {
     "name": "stderr",
     "output_type": "stream",
     "text": [
      "\n",
      " Bad direction in the line search;\n",
      "   refresh the lbfgs memory and restart the iteration.\n"
     ]
    },
    {
     "name": "stdout",
     "output_type": "stream",
     "text": [
      "\n",
      "           * * *\n",
      "\n",
      "Tit   = total number of iterations\n",
      "Tnf   = total number of function evaluations\n",
      "Tnint = total number of segments explored during Cauchy searches\n",
      "Skip  = number of BFGS updates skipped\n",
      "Nact  = number of active bounds at final generalized Cauchy point\n",
      "Projg = norm of the final projected gradient\n",
      "F     = final function value\n",
      "\n",
      "           * * *\n",
      "\n",
      "   N    Tit     Tnf  Tnint  Skip  Nact     Projg        F\n",
      "    4     12     39      2     0     0   7.057D-04  -6.873D-01\n",
      "  F = -0.68733188320366922     \n",
      "\n",
      "CONVERGENCE: REL_REDUCTION_OF_F_<=_FACTR*EPSMCH             \n"
     ]
    },
    {
     "name": "stderr",
     "output_type": "stream",
     "text": [
      "/Users/utsavacharya/Desktop/Projects/VoltVision/venv/lib/python3.10/site-packages/statsmodels/tsa/statespace/sarimax.py:1009: UserWarning: Non-invertible starting seasonal moving average Using zeros as starting parameters.\n",
      "  warn('Non-invertible starting seasonal moving average'\n",
      " This problem is unconstrained.\n"
     ]
    },
    {
     "name": "stdout",
     "output_type": "stream",
     "text": [
      "RUNNING THE L-BFGS-B CODE\n",
      "\n",
      "           * * *\n",
      "\n",
      "Machine precision = 2.220D-16\n",
      " N =            5     M =           10\n",
      "\n",
      "At X0         0 variables are exactly at the bounds\n",
      "\n",
      "At iterate    0    f= -6.76700D-01    |proj g|=  7.10906D-01\n",
      "\n",
      "At iterate    5    f= -1.02122D+00    |proj g|=  2.81576D-01\n",
      "\n",
      "At iterate   10    f= -1.21576D+00    |proj g|=  3.88541D-01\n",
      "\n",
      "At iterate   15    f= -1.23724D+00    |proj g|=  4.41279D-01\n",
      "\n",
      "At iterate   20    f= -1.24639D+00    |proj g|=  2.70587D-02\n",
      "\n",
      "At iterate   25    f= -1.24790D+00    |proj g|=  1.92236D-02\n",
      "\n",
      "At iterate   30    f= -1.24804D+00    |proj g|=  1.53061D-02\n",
      "\n",
      "At iterate   35    f= -1.24805D+00    |proj g|=  1.50543D-03\n",
      "\n",
      "           * * *\n",
      "\n",
      "Tit   = total number of iterations\n",
      "Tnf   = total number of function evaluations\n",
      "Tnint = total number of segments explored during Cauchy searches\n",
      "Skip  = number of BFGS updates skipped\n",
      "Nact  = number of active bounds at final generalized Cauchy point\n",
      "Projg = norm of the final projected gradient\n",
      "F     = final function value\n",
      "\n",
      "           * * *\n",
      "\n",
      "   N    Tit     Tnf  Tnint  Skip  Nact     Projg        F\n",
      "    5     39     51      1     0     0   5.635D-04  -1.248D+00\n",
      "  F =  -1.2480510243168956     \n",
      "\n",
      "CONVERGENCE: REL_REDUCTION_OF_F_<=_FACTR*EPSMCH             \n",
      "RUNNING THE L-BFGS-B CODE\n",
      "\n",
      "           * * *\n",
      "\n",
      "Machine precision = 2.220D-16\n",
      " N =            6     M =           10\n",
      "\n",
      "At X0         0 variables are exactly at the bounds\n",
      "\n",
      "At iterate    0    f= -1.07208D+00    |proj g|=  6.33335D+00\n"
     ]
    },
    {
     "name": "stderr",
     "output_type": "stream",
     "text": [
      " This problem is unconstrained.\n"
     ]
    },
    {
     "name": "stdout",
     "output_type": "stream",
     "text": [
      "\n",
      "At iterate    5    f= -1.54009D+00    |proj g|=  6.30156D-01\n",
      "\n",
      "At iterate   10    f= -1.57854D+00    |proj g|=  1.31223D-02\n",
      "\n",
      "At iterate   15    f= -1.57865D+00    |proj g|=  3.66564D-02\n",
      "\n",
      "At iterate   20    f= -1.57871D+00    |proj g|=  2.89315D-02\n",
      "\n",
      "At iterate   25    f= -1.58174D+00    |proj g|=  9.88153D-01\n",
      "\n",
      "At iterate   30    f= -1.59799D+00    |proj g|=  1.84353D-01\n",
      "\n",
      "At iterate   35    f= -1.62351D+00    |proj g|=  1.15454D-01\n",
      "\n",
      "At iterate   40    f= -1.62759D+00    |proj g|=  7.74607D-01\n",
      "\n",
      "At iterate   45    f= -1.63602D+00    |proj g|=  5.41259D-01\n"
     ]
    },
    {
     "name": "stderr",
     "output_type": "stream",
     "text": [
      "/Users/utsavacharya/Desktop/Projects/VoltVision/venv/lib/python3.10/site-packages/statsmodels/base/model.py:607: ConvergenceWarning: Maximum Likelihood optimization failed to converge. Check mle_retvals\n",
      "  warnings.warn(\"Maximum Likelihood optimization failed to \"\n"
     ]
    },
    {
     "name": "stdout",
     "output_type": "stream",
     "text": [
      "\n",
      "At iterate   50    f= -1.63779D+00    |proj g|=  2.80188D-01\n",
      "\n",
      "           * * *\n",
      "\n",
      "Tit   = total number of iterations\n",
      "Tnf   = total number of function evaluations\n",
      "Tnint = total number of segments explored during Cauchy searches\n",
      "Skip  = number of BFGS updates skipped\n",
      "Nact  = number of active bounds at final generalized Cauchy point\n",
      "Projg = norm of the final projected gradient\n",
      "F     = final function value\n",
      "\n",
      "           * * *\n",
      "\n",
      "   N    Tit     Tnf  Tnint  Skip  Nact     Projg        F\n",
      "    6     50     78      1     0     0   2.802D-01  -1.638D+00\n",
      "  F =  -1.6377898584214974     \n",
      "\n",
      "STOP: TOTAL NO. of ITERATIONS REACHED LIMIT                 \n"
     ]
    },
    {
     "name": "stderr",
     "output_type": "stream",
     "text": [
      " This problem is unconstrained.\n"
     ]
    },
    {
     "name": "stdout",
     "output_type": "stream",
     "text": [
      "RUNNING THE L-BFGS-B CODE\n",
      "\n",
      "           * * *\n",
      "\n",
      "Machine precision = 2.220D-16\n",
      " N =            5     M =           10\n",
      "\n",
      "At X0         0 variables are exactly at the bounds\n",
      "\n",
      "At iterate    0    f= -1.64433D+00    |proj g|=  1.42127D-01\n",
      "\n",
      "At iterate    5    f= -1.64531D+00    |proj g|=  2.92775D-01\n",
      "\n",
      "At iterate   10    f= -1.64538D+00    |proj g|=  8.43556D-02\n",
      "\n",
      "At iterate   15    f= -1.64547D+00    |proj g|=  4.56295D-02\n",
      "\n",
      "At iterate   20    f= -1.64547D+00    |proj g|=  7.93908D-03\n",
      "\n",
      "At iterate   25    f= -1.64548D+00    |proj g|=  2.43978D-02\n",
      "\n",
      "At iterate   30    f= -1.64558D+00    |proj g|=  2.63076D-01\n",
      "\n",
      "At iterate   35    f= -1.65451D+00    |proj g|=  3.19786D-01\n",
      "\n",
      "At iterate   40    f= -1.65700D+00    |proj g|=  2.65832D-01\n",
      "\n",
      "At iterate   45    f= -1.65988D+00    |proj g|=  2.43415D-02\n"
     ]
    },
    {
     "name": "stderr",
     "output_type": "stream",
     "text": [
      "/Users/utsavacharya/Desktop/Projects/VoltVision/venv/lib/python3.10/site-packages/statsmodels/base/model.py:607: ConvergenceWarning: Maximum Likelihood optimization failed to converge. Check mle_retvals\n",
      "  warnings.warn(\"Maximum Likelihood optimization failed to \"\n"
     ]
    },
    {
     "name": "stdout",
     "output_type": "stream",
     "text": [
      "\n",
      "At iterate   50    f= -1.66081D+00    |proj g|=  3.18886D-01\n",
      "\n",
      "           * * *\n",
      "\n",
      "Tit   = total number of iterations\n",
      "Tnf   = total number of function evaluations\n",
      "Tnint = total number of segments explored during Cauchy searches\n",
      "Skip  = number of BFGS updates skipped\n",
      "Nact  = number of active bounds at final generalized Cauchy point\n",
      "Projg = norm of the final projected gradient\n",
      "F     = final function value\n",
      "\n",
      "           * * *\n",
      "\n",
      "   N    Tit     Tnf  Tnint  Skip  Nact     Projg        F\n",
      "    5     50     63      1     0     0   3.189D-01  -1.661D+00\n",
      "  F =  -1.6608139238215374     \n",
      "\n",
      "STOP: TOTAL NO. of ITERATIONS REACHED LIMIT                 \n",
      "RUNNING THE L-BFGS-B CODE\n",
      "\n",
      "           * * *\n",
      "\n",
      "Machine precision = 2.220D-16\n",
      " N =            6     M =           10\n",
      "\n",
      "At X0         0 variables are exactly at the bounds\n",
      "\n",
      "At iterate    0    f= -1.64258D+00    |proj g|=  6.74852D-02\n"
     ]
    },
    {
     "name": "stderr",
     "output_type": "stream",
     "text": [
      " This problem is unconstrained.\n"
     ]
    },
    {
     "name": "stdout",
     "output_type": "stream",
     "text": [
      "\n",
      "At iterate    5    f= -1.64376D+00    |proj g|=  6.22425D-03\n",
      "\n",
      "At iterate   10    f= -1.64380D+00    |proj g|=  1.15797D-02\n",
      "\n",
      "At iterate   15    f= -1.64382D+00    |proj g|=  1.39519D-01\n",
      "\n",
      "At iterate   20    f= -1.64397D+00    |proj g|=  3.09827D-02\n",
      "\n",
      "At iterate   25    f= -1.64429D+00    |proj g|=  4.61499D-01\n",
      "\n",
      "At iterate   30    f= -1.64580D+00    |proj g|=  1.66201D-02\n",
      "\n",
      "At iterate   35    f= -1.64582D+00    |proj g|=  2.11464D-03\n",
      "\n",
      "At iterate   40    f= -1.64872D+00    |proj g|=  9.97778D-02\n",
      "\n",
      "At iterate   45    f= -1.65705D+00    |proj g|=  2.46966D-01\n"
     ]
    },
    {
     "name": "stderr",
     "output_type": "stream",
     "text": [
      "/Users/utsavacharya/Desktop/Projects/VoltVision/venv/lib/python3.10/site-packages/statsmodels/base/model.py:607: ConvergenceWarning: Maximum Likelihood optimization failed to converge. Check mle_retvals\n",
      "  warnings.warn(\"Maximum Likelihood optimization failed to \"\n"
     ]
    },
    {
     "name": "stdout",
     "output_type": "stream",
     "text": [
      "\n",
      "At iterate   50    f= -1.65793D+00    |proj g|=  3.55370D-01\n",
      "\n",
      "           * * *\n",
      "\n",
      "Tit   = total number of iterations\n",
      "Tnf   = total number of function evaluations\n",
      "Tnint = total number of segments explored during Cauchy searches\n",
      "Skip  = number of BFGS updates skipped\n",
      "Nact  = number of active bounds at final generalized Cauchy point\n",
      "Projg = norm of the final projected gradient\n",
      "F     = final function value\n",
      "\n",
      "           * * *\n",
      "\n",
      "   N    Tit     Tnf  Tnint  Skip  Nact     Projg        F\n",
      "    6     50     67      1     0     0   3.554D-01  -1.658D+00\n",
      "  F =  -1.6579315679123923     \n",
      "\n",
      "STOP: TOTAL NO. of ITERATIONS REACHED LIMIT                 \n",
      "RUNNING THE L-BFGS-B CODE\n",
      "\n",
      "           * * *\n",
      "\n",
      "Machine precision = 2.220D-16\n",
      " N =            7     M =           10\n",
      "\n",
      "At X0         0 variables are exactly at the bounds\n",
      "\n",
      "At iterate    0    f= -1.64313D+00    |proj g|=  9.07507D-02\n"
     ]
    },
    {
     "name": "stderr",
     "output_type": "stream",
     "text": [
      " This problem is unconstrained.\n"
     ]
    },
    {
     "name": "stdout",
     "output_type": "stream",
     "text": [
      "\n",
      "At iterate    5    f= -1.64558D+00    |proj g|=  1.74064D-02\n",
      "\n",
      "At iterate   10    f= -1.64568D+00    |proj g|=  1.54254D-03\n",
      "\n",
      "At iterate   15    f= -1.64568D+00    |proj g|=  8.37128D-03\n",
      "\n",
      "At iterate   20    f= -1.64575D+00    |proj g|=  3.42860D-02\n",
      "\n",
      "At iterate   25    f= -1.64986D+00    |proj g|=  5.52404D-01\n",
      "\n",
      "At iterate   30    f= -1.65761D+00    |proj g|=  9.39049D-02\n",
      "\n",
      "At iterate   35    f= -1.66064D+00    |proj g|=  1.89303D-01\n",
      "\n",
      "At iterate   40    f= -1.66150D+00    |proj g|=  6.43809D-02\n",
      "\n",
      "At iterate   45    f= -1.66238D+00    |proj g|=  2.96115D-02\n"
     ]
    },
    {
     "name": "stderr",
     "output_type": "stream",
     "text": [
      "/Users/utsavacharya/Desktop/Projects/VoltVision/venv/lib/python3.10/site-packages/statsmodels/base/model.py:607: ConvergenceWarning: Maximum Likelihood optimization failed to converge. Check mle_retvals\n",
      "  warnings.warn(\"Maximum Likelihood optimization failed to \"\n"
     ]
    },
    {
     "name": "stdout",
     "output_type": "stream",
     "text": [
      "\n",
      "At iterate   50    f= -1.66255D+00    |proj g|=  4.55314D-02\n",
      "\n",
      "           * * *\n",
      "\n",
      "Tit   = total number of iterations\n",
      "Tnf   = total number of function evaluations\n",
      "Tnint = total number of segments explored during Cauchy searches\n",
      "Skip  = number of BFGS updates skipped\n",
      "Nact  = number of active bounds at final generalized Cauchy point\n",
      "Projg = norm of the final projected gradient\n",
      "F     = final function value\n",
      "\n",
      "           * * *\n",
      "\n",
      "   N    Tit     Tnf  Tnint  Skip  Nact     Projg        F\n",
      "    7     50     67      1     0     0   4.553D-02  -1.663D+00\n",
      "  F =  -1.6625453413499873     \n",
      "\n",
      "STOP: TOTAL NO. of ITERATIONS REACHED LIMIT                 \n",
      "RUNNING THE L-BFGS-B CODE\n",
      "\n",
      "           * * *\n",
      "\n",
      "Machine precision = 2.220D-16\n",
      " N =            5     M =           10\n",
      "\n",
      "At X0         0 variables are exactly at the bounds\n",
      "\n",
      "At iterate    0    f= -1.39588D+00    |proj g|=  4.21995D+00\n"
     ]
    },
    {
     "name": "stderr",
     "output_type": "stream",
     "text": [
      " This problem is unconstrained.\n"
     ]
    },
    {
     "name": "stdout",
     "output_type": "stream",
     "text": [
      "\n",
      "At iterate    5    f= -1.42432D+00    |proj g|=  1.62629D-01\n",
      "\n",
      "At iterate   10    f= -1.42442D+00    |proj g|=  5.51031D-02\n",
      "\n",
      "At iterate   15    f= -1.42442D+00    |proj g|=  3.11227D-03\n",
      "\n",
      "At iterate   20    f= -1.42442D+00    |proj g|=  1.24635D-03\n",
      "\n",
      "At iterate   25    f= -1.42443D+00    |proj g|=  1.82112D-02\n",
      "\n",
      "At iterate   30    f= -1.42669D+00    |proj g|=  9.39459D-01\n",
      "\n",
      "At iterate   35    f= -1.43095D+00    |proj g|=  3.59720D-02\n",
      "\n",
      "At iterate   40    f= -1.43272D+00    |proj g|=  2.75226D-01\n",
      "\n",
      "At iterate   45    f= -1.44864D+00    |proj g|=  1.29559D+00\n"
     ]
    },
    {
     "name": "stderr",
     "output_type": "stream",
     "text": [
      "/Users/utsavacharya/Desktop/Projects/VoltVision/venv/lib/python3.10/site-packages/statsmodels/base/model.py:607: ConvergenceWarning: Maximum Likelihood optimization failed to converge. Check mle_retvals\n",
      "  warnings.warn(\"Maximum Likelihood optimization failed to \"\n"
     ]
    },
    {
     "name": "stdout",
     "output_type": "stream",
     "text": [
      "\n",
      "At iterate   50    f= -1.46229D+00    |proj g|=  5.83990D-01\n",
      "\n",
      "           * * *\n",
      "\n",
      "Tit   = total number of iterations\n",
      "Tnf   = total number of function evaluations\n",
      "Tnint = total number of segments explored during Cauchy searches\n",
      "Skip  = number of BFGS updates skipped\n",
      "Nact  = number of active bounds at final generalized Cauchy point\n",
      "Projg = norm of the final projected gradient\n",
      "F     = final function value\n",
      "\n",
      "           * * *\n",
      "\n",
      "   N    Tit     Tnf  Tnint  Skip  Nact     Projg        F\n",
      "    5     50     64      1     0     0   5.840D-01  -1.462D+00\n",
      "  F =  -1.4622875052971485     \n",
      "\n",
      "STOP: TOTAL NO. of ITERATIONS REACHED LIMIT                 \n"
     ]
    },
    {
     "name": "stderr",
     "output_type": "stream",
     "text": [
      " This problem is unconstrained.\n"
     ]
    },
    {
     "name": "stdout",
     "output_type": "stream",
     "text": [
      "RUNNING THE L-BFGS-B CODE\n",
      "\n",
      "           * * *\n",
      "\n",
      "Machine precision = 2.220D-16\n",
      " N =            6     M =           10\n",
      "\n",
      "At X0         0 variables are exactly at the bounds\n",
      "\n",
      "At iterate    0    f= -1.46365D+00    |proj g|=  6.17570D+00\n",
      "\n",
      "At iterate    5    f= -1.52963D+00    |proj g|=  4.44084D-01\n",
      "\n",
      "At iterate   10    f= -1.55456D+00    |proj g|=  1.62154D+00\n",
      "\n",
      "At iterate   15    f= -1.62290D+00    |proj g|=  2.28055D+00\n",
      "\n",
      "At iterate   20    f= -1.62871D+00    |proj g|=  1.69254D-01\n",
      "\n",
      "At iterate   25    f= -1.63942D+00    |proj g|=  2.39940D-01\n",
      "\n",
      "At iterate   30    f= -1.64312D+00    |proj g|=  1.44137D-01\n",
      "\n",
      "At iterate   35    f= -1.64443D+00    |proj g|=  9.82449D-03\n",
      "\n",
      "At iterate   40    f= -1.64844D+00    |proj g|=  8.71705D-01\n",
      "\n",
      "At iterate   45    f= -1.65440D+00    |proj g|=  1.51089D-01\n"
     ]
    },
    {
     "name": "stderr",
     "output_type": "stream",
     "text": [
      "/Users/utsavacharya/Desktop/Projects/VoltVision/venv/lib/python3.10/site-packages/statsmodels/base/model.py:607: ConvergenceWarning: Maximum Likelihood optimization failed to converge. Check mle_retvals\n",
      "  warnings.warn(\"Maximum Likelihood optimization failed to \"\n"
     ]
    },
    {
     "name": "stdout",
     "output_type": "stream",
     "text": [
      "\n",
      "At iterate   50    f= -1.65835D+00    |proj g|=  8.52710D-02\n",
      "\n",
      "           * * *\n",
      "\n",
      "Tit   = total number of iterations\n",
      "Tnf   = total number of function evaluations\n",
      "Tnint = total number of segments explored during Cauchy searches\n",
      "Skip  = number of BFGS updates skipped\n",
      "Nact  = number of active bounds at final generalized Cauchy point\n",
      "Projg = norm of the final projected gradient\n",
      "F     = final function value\n",
      "\n",
      "           * * *\n",
      "\n",
      "   N    Tit     Tnf  Tnint  Skip  Nact     Projg        F\n",
      "    6     50     58      1     0     0   8.527D-02  -1.658D+00\n",
      "  F =  -1.6583499664690564     \n",
      "\n",
      "STOP: TOTAL NO. of ITERATIONS REACHED LIMIT                 \n",
      "RUNNING THE L-BFGS-B CODE\n",
      "\n",
      "           * * *\n",
      "\n",
      "Machine precision = 2.220D-16\n",
      " N =            7     M =           10\n",
      "\n",
      "At X0         0 variables are exactly at the bounds\n",
      "\n",
      "At iterate    0    f= -1.50139D+00    |proj g|=  7.26744D+00\n"
     ]
    },
    {
     "name": "stderr",
     "output_type": "stream",
     "text": [
      " This problem is unconstrained.\n"
     ]
    },
    {
     "name": "stdout",
     "output_type": "stream",
     "text": [
      "\n",
      "At iterate    5    f= -1.60015D+00    |proj g|=  3.94304D-01\n",
      "\n",
      "At iterate   10    f= -1.60469D+00    |proj g|=  3.27561D-01\n",
      "\n",
      "At iterate   15    f= -1.60517D+00    |proj g|=  5.94525D-01\n",
      "\n",
      "At iterate   20    f= -1.61660D+00    |proj g|=  2.22935D+00\n",
      "\n",
      "At iterate   25    f= -1.62481D+00    |proj g|=  4.60008D-01\n",
      "\n",
      "At iterate   30    f= -1.63434D+00    |proj g|=  8.05609D-01\n",
      "\n",
      "At iterate   35    f= -1.63879D+00    |proj g|=  1.49755D-02\n",
      "\n",
      "At iterate   40    f= -1.63929D+00    |proj g|=  1.91744D-02\n",
      "\n",
      "At iterate   45    f= -1.63939D+00    |proj g|=  8.24518D-03\n"
     ]
    },
    {
     "name": "stderr",
     "output_type": "stream",
     "text": [
      "/Users/utsavacharya/Desktop/Projects/VoltVision/venv/lib/python3.10/site-packages/statsmodels/base/model.py:607: ConvergenceWarning: Maximum Likelihood optimization failed to converge. Check mle_retvals\n",
      "  warnings.warn(\"Maximum Likelihood optimization failed to \"\n"
     ]
    },
    {
     "name": "stdout",
     "output_type": "stream",
     "text": [
      "\n",
      "At iterate   50    f= -1.63947D+00    |proj g|=  3.33660D-02\n",
      "\n",
      "           * * *\n",
      "\n",
      "Tit   = total number of iterations\n",
      "Tnf   = total number of function evaluations\n",
      "Tnint = total number of segments explored during Cauchy searches\n",
      "Skip  = number of BFGS updates skipped\n",
      "Nact  = number of active bounds at final generalized Cauchy point\n",
      "Projg = norm of the final projected gradient\n",
      "F     = final function value\n",
      "\n",
      "           * * *\n",
      "\n",
      "   N    Tit     Tnf  Tnint  Skip  Nact     Projg        F\n",
      "    7     50     62      1     0     0   3.337D-02  -1.639D+00\n",
      "  F =  -1.6394747555179510     \n",
      "\n",
      "STOP: TOTAL NO. of ITERATIONS REACHED LIMIT                 \n"
     ]
    },
    {
     "name": "stderr",
     "output_type": "stream",
     "text": [
      " This problem is unconstrained.\n"
     ]
    },
    {
     "name": "stdout",
     "output_type": "stream",
     "text": [
      "RUNNING THE L-BFGS-B CODE\n",
      "\n",
      "           * * *\n",
      "\n",
      "Machine precision = 2.220D-16\n",
      " N =            5     M =           10\n",
      "\n",
      "At X0         0 variables are exactly at the bounds\n",
      "\n",
      "At iterate    0    f= -9.24230D-01    |proj g|=  3.89385D+00\n",
      "\n",
      "At iterate    5    f= -1.00876D+00    |proj g|=  6.33867D-02\n",
      "\n",
      "At iterate   10    f= -1.01056D+00    |proj g|=  3.84409D-01\n",
      "\n",
      "At iterate   15    f= -1.01089D+00    |proj g|=  1.14851D-02\n",
      "\n",
      "At iterate   20    f= -1.01091D+00    |proj g|=  3.92131D-03\n",
      "\n",
      "At iterate   25    f= -1.01092D+00    |proj g|=  6.16535D-03\n",
      "\n",
      "           * * *\n",
      "\n",
      "Tit   = total number of iterations\n",
      "Tnf   = total number of function evaluations\n",
      "Tnint = total number of segments explored during Cauchy searches\n",
      "Skip  = number of BFGS updates skipped\n",
      "Nact  = number of active bounds at final generalized Cauchy point\n",
      "Projg = norm of the final projected gradient\n",
      "F     = final function value\n",
      "\n",
      "           * * *\n",
      "\n",
      "   N    Tit     Tnf  Tnint  Skip  Nact     Projg        F\n",
      "    5     29     35      1     0     0   1.178D-04  -1.011D+00\n",
      "  F =  -1.0109189544885453     \n",
      "\n",
      "CONVERGENCE: REL_REDUCTION_OF_F_<=_FACTR*EPSMCH             \n",
      "RUNNING THE L-BFGS-B CODE\n",
      "\n",
      "           * * *\n",
      "\n",
      "Machine precision = 2.220D-16\n",
      " N =            6     M =           10\n",
      "\n",
      "At X0         0 variables are exactly at the bounds\n",
      "\n",
      "At iterate    0    f= -1.04208D+00    |proj g|=  5.83431D+00\n"
     ]
    },
    {
     "name": "stderr",
     "output_type": "stream",
     "text": [
      " This problem is unconstrained.\n"
     ]
    },
    {
     "name": "stdout",
     "output_type": "stream",
     "text": [
      "\n",
      "At iterate    5    f= -1.30804D+00    |proj g|=  8.38794D-01\n",
      "\n",
      "At iterate   10    f= -1.33457D+00    |proj g|=  2.55713D-01\n",
      "\n",
      "At iterate   15    f= -1.35052D+00    |proj g|=  3.01995D-01\n",
      "\n",
      "At iterate   20    f= -1.35655D+00    |proj g|=  1.22034D+00\n",
      "\n",
      "At iterate   25    f= -1.39859D+00    |proj g|=  1.03524D-01\n",
      "\n",
      "At iterate   30    f= -1.40944D+00    |proj g|=  1.79470D-01\n",
      "\n",
      "At iterate   35    f= -1.42013D+00    |proj g|=  1.81025D-01\n",
      "\n",
      "At iterate   40    f= -1.42253D+00    |proj g|=  1.21666D-02\n",
      "\n",
      "At iterate   45    f= -1.42302D+00    |proj g|=  4.93008D-02\n"
     ]
    },
    {
     "name": "stderr",
     "output_type": "stream",
     "text": [
      "/Users/utsavacharya/Desktop/Projects/VoltVision/venv/lib/python3.10/site-packages/statsmodels/base/model.py:607: ConvergenceWarning: Maximum Likelihood optimization failed to converge. Check mle_retvals\n",
      "  warnings.warn(\"Maximum Likelihood optimization failed to \"\n"
     ]
    },
    {
     "name": "stdout",
     "output_type": "stream",
     "text": [
      "\n",
      "At iterate   50    f= -1.43132D+00    |proj g|=  4.11611D-02\n",
      "\n",
      "           * * *\n",
      "\n",
      "Tit   = total number of iterations\n",
      "Tnf   = total number of function evaluations\n",
      "Tnint = total number of segments explored during Cauchy searches\n",
      "Skip  = number of BFGS updates skipped\n",
      "Nact  = number of active bounds at final generalized Cauchy point\n",
      "Projg = norm of the final projected gradient\n",
      "F     = final function value\n",
      "\n",
      "           * * *\n",
      "\n",
      "   N    Tit     Tnf  Tnint  Skip  Nact     Projg        F\n",
      "    6     50     68      1     0     0   4.116D-02  -1.431D+00\n",
      "  F =  -1.4313203774278707     \n",
      "\n",
      "STOP: TOTAL NO. of ITERATIONS REACHED LIMIT                 \n",
      "RUNNING THE L-BFGS-B CODE\n",
      "\n",
      "           * * *\n",
      "\n",
      "Machine precision = 2.220D-16\n",
      " N =            7     M =           10\n",
      "\n",
      "At X0         0 variables are exactly at the bounds\n",
      "\n",
      "At iterate    0    f= -9.24195D-01    |proj g|=  3.89391D+00\n"
     ]
    },
    {
     "name": "stderr",
     "output_type": "stream",
     "text": [
      " This problem is unconstrained.\n"
     ]
    },
    {
     "name": "stdout",
     "output_type": "stream",
     "text": [
      "\n",
      "At iterate    5    f= -1.04452D+00    |proj g|=  9.42411D-01\n",
      "\n",
      "At iterate   10    f= -1.22540D+00    |proj g|=  2.60237D-01\n",
      "\n",
      "At iterate   15    f= -1.28663D+00    |proj g|=  1.04581D-01\n",
      "\n",
      "At iterate   20    f= -1.31600D+00    |proj g|=  4.58475D-02\n",
      "\n",
      "At iterate   25    f= -1.33315D+00    |proj g|=  6.07730D-01\n",
      "\n",
      "At iterate   30    f= -1.37658D+00    |proj g|=  2.27885D+00\n",
      "\n",
      "At iterate   35    f= -1.59765D+00    |proj g|=  2.05528D+00\n",
      "\n",
      "At iterate   40    f= -1.61952D+00    |proj g|=  5.61453D-01\n",
      "\n",
      "At iterate   45    f= -1.63584D+00    |proj g|=  4.37771D-01\n"
     ]
    },
    {
     "name": "stderr",
     "output_type": "stream",
     "text": [
      "/Users/utsavacharya/Desktop/Projects/VoltVision/venv/lib/python3.10/site-packages/statsmodels/base/model.py:607: ConvergenceWarning: Maximum Likelihood optimization failed to converge. Check mle_retvals\n",
      "  warnings.warn(\"Maximum Likelihood optimization failed to \"\n"
     ]
    },
    {
     "name": "stdout",
     "output_type": "stream",
     "text": [
      "\n",
      "At iterate   50    f= -1.64494D+00    |proj g|=  1.01482D-01\n",
      "\n",
      "           * * *\n",
      "\n",
      "Tit   = total number of iterations\n",
      "Tnf   = total number of function evaluations\n",
      "Tnint = total number of segments explored during Cauchy searches\n",
      "Skip  = number of BFGS updates skipped\n",
      "Nact  = number of active bounds at final generalized Cauchy point\n",
      "Projg = norm of the final projected gradient\n",
      "F     = final function value\n",
      "\n",
      "           * * *\n",
      "\n",
      "   N    Tit     Tnf  Tnint  Skip  Nact     Projg        F\n",
      "    7     50     78      1     0     0   1.015D-01  -1.645D+00\n",
      "  F =  -1.6449428926844694     \n",
      "\n",
      "STOP: TOTAL NO. of ITERATIONS REACHED LIMIT                 \n",
      "RUNNING THE L-BFGS-B CODE\n",
      "\n",
      "           * * *\n",
      "\n",
      "Machine precision = 2.220D-16\n",
      " N =            6     M =           10\n",
      "\n",
      "At X0         0 variables are exactly at the bounds\n",
      "\n",
      "At iterate    0    f= -1.64434D+00    |proj g|=  1.42498D-01\n"
     ]
    },
    {
     "name": "stderr",
     "output_type": "stream",
     "text": [
      " This problem is unconstrained.\n"
     ]
    },
    {
     "name": "stdout",
     "output_type": "stream",
     "text": [
      "\n",
      "At iterate    5    f= -1.64532D+00    |proj g|=  2.84866D-01\n",
      "\n",
      "At iterate   10    f= -1.64539D+00    |proj g|=  8.84225D-02\n",
      "\n",
      "At iterate   15    f= -1.64548D+00    |proj g|=  4.08015D-02\n",
      "\n",
      "At iterate   20    f= -1.64548D+00    |proj g|=  8.37341D-03\n",
      "\n",
      "At iterate   25    f= -1.64549D+00    |proj g|=  2.06131D-02\n",
      "\n",
      "At iterate   30    f= -1.64552D+00    |proj g|=  1.54240D-01\n",
      "\n",
      "At iterate   35    f= -1.64750D+00    |proj g|=  1.08933D+00\n",
      "\n",
      "At iterate   40    f= -1.65773D+00    |proj g|=  6.55946D-01\n",
      "\n",
      "At iterate   45    f= -1.65991D+00    |proj g|=  2.35430D-01\n"
     ]
    },
    {
     "name": "stderr",
     "output_type": "stream",
     "text": [
      "/Users/utsavacharya/Desktop/Projects/VoltVision/venv/lib/python3.10/site-packages/statsmodels/base/model.py:607: ConvergenceWarning: Maximum Likelihood optimization failed to converge. Check mle_retvals\n",
      "  warnings.warn(\"Maximum Likelihood optimization failed to \"\n"
     ]
    },
    {
     "name": "stdout",
     "output_type": "stream",
     "text": [
      "\n",
      "At iterate   50    f= -1.66021D+00    |proj g|=  1.52255D-02\n",
      "\n",
      "           * * *\n",
      "\n",
      "Tit   = total number of iterations\n",
      "Tnf   = total number of function evaluations\n",
      "Tnint = total number of segments explored during Cauchy searches\n",
      "Skip  = number of BFGS updates skipped\n",
      "Nact  = number of active bounds at final generalized Cauchy point\n",
      "Projg = norm of the final projected gradient\n",
      "F     = final function value\n",
      "\n",
      "           * * *\n",
      "\n",
      "   N    Tit     Tnf  Tnint  Skip  Nact     Projg        F\n",
      "    6     50     60      1     0     0   1.523D-02  -1.660D+00\n",
      "  F =  -1.6602079421915639     \n",
      "\n",
      "STOP: TOTAL NO. of ITERATIONS REACHED LIMIT                 \n",
      "RUNNING THE L-BFGS-B CODE\n",
      "\n",
      "           * * *\n",
      "\n",
      "Machine precision = 2.220D-16\n",
      " N =            7     M =           10\n",
      "\n",
      "At X0         0 variables are exactly at the bounds\n",
      "\n",
      "At iterate    0    f= -1.64446D+00    |proj g|=  1.47427D-01\n"
     ]
    },
    {
     "name": "stderr",
     "output_type": "stream",
     "text": [
      " This problem is unconstrained.\n"
     ]
    },
    {
     "name": "stdout",
     "output_type": "stream",
     "text": [
      "\n",
      "At iterate    5    f= -1.64577D+00    |proj g|=  6.14916D-02\n",
      "\n",
      "At iterate   10    f= -1.64581D+00    |proj g|=  1.86407D-01\n",
      "\n",
      "At iterate   15    f= -1.64597D+00    |proj g|=  2.00749D-03\n",
      "\n",
      "At iterate   20    f= -1.64598D+00    |proj g|=  4.27520D-02\n",
      "\n",
      "At iterate   25    f= -1.64600D+00    |proj g|=  1.84933D-02\n",
      "\n",
      "At iterate   30    f= -1.64671D+00    |proj g|=  6.45278D-01\n",
      "\n",
      "At iterate   35    f= -1.64981D+00    |proj g|=  1.24085D-01\n",
      "\n",
      "At iterate   40    f= -1.65193D+00    |proj g|=  1.66193D-01\n",
      "\n",
      "At iterate   45    f= -1.65942D+00    |proj g|=  3.54654D-01\n"
     ]
    },
    {
     "name": "stderr",
     "output_type": "stream",
     "text": [
      "/Users/utsavacharya/Desktop/Projects/VoltVision/venv/lib/python3.10/site-packages/statsmodels/base/model.py:607: ConvergenceWarning: Maximum Likelihood optimization failed to converge. Check mle_retvals\n",
      "  warnings.warn(\"Maximum Likelihood optimization failed to \"\n"
     ]
    },
    {
     "name": "stdout",
     "output_type": "stream",
     "text": [
      "\n",
      "At iterate   50    f= -1.66087D+00    |proj g|=  5.53467D-02\n",
      "\n",
      "           * * *\n",
      "\n",
      "Tit   = total number of iterations\n",
      "Tnf   = total number of function evaluations\n",
      "Tnint = total number of segments explored during Cauchy searches\n",
      "Skip  = number of BFGS updates skipped\n",
      "Nact  = number of active bounds at final generalized Cauchy point\n",
      "Projg = norm of the final projected gradient\n",
      "F     = final function value\n",
      "\n",
      "           * * *\n",
      "\n",
      "   N    Tit     Tnf  Tnint  Skip  Nact     Projg        F\n",
      "    7     50     60      1     0     0   5.535D-02  -1.661D+00\n",
      "  F =  -1.6608717934435271     \n",
      "\n",
      "STOP: TOTAL NO. of ITERATIONS REACHED LIMIT                 \n",
      "RUNNING THE L-BFGS-B CODE\n",
      "\n",
      "           * * *\n",
      "\n",
      "Machine precision = 2.220D-16\n",
      " N =            8     M =           10\n",
      "\n",
      "At X0         0 variables are exactly at the bounds\n",
      "\n",
      "At iterate    0    f= -1.64378D+00    |proj g|=  1.18660D-01\n"
     ]
    },
    {
     "name": "stderr",
     "output_type": "stream",
     "text": [
      " This problem is unconstrained.\n"
     ]
    },
    {
     "name": "stdout",
     "output_type": "stream",
     "text": [
      "\n",
      "At iterate    5    f= -1.64535D+00    |proj g|=  2.91415D-01\n",
      "\n",
      "At iterate   10    f= -1.64547D+00    |proj g|=  2.32033D-01\n",
      "\n",
      "At iterate   15    f= -1.64571D+00    |proj g|=  2.53912D-02\n",
      "\n",
      "At iterate   20    f= -1.64572D+00    |proj g|=  3.38774D-02\n",
      "\n",
      "At iterate   25    f= -1.64573D+00    |proj g|=  9.46091D-03\n",
      "\n",
      "At iterate   30    f= -1.64581D+00    |proj g|=  2.60217D-02\n",
      "\n",
      "At iterate   35    f= -1.65408D+00    |proj g|=  9.23217D-01\n",
      "\n",
      "At iterate   40    f= -1.65604D+00    |proj g|=  1.30285D-01\n",
      "\n",
      "At iterate   45    f= -1.65949D+00    |proj g|=  1.31491D-01\n"
     ]
    },
    {
     "name": "stderr",
     "output_type": "stream",
     "text": [
      "/Users/utsavacharya/Desktop/Projects/VoltVision/venv/lib/python3.10/site-packages/statsmodels/base/model.py:607: ConvergenceWarning: Maximum Likelihood optimization failed to converge. Check mle_retvals\n",
      "  warnings.warn(\"Maximum Likelihood optimization failed to \"\n"
     ]
    },
    {
     "name": "stdout",
     "output_type": "stream",
     "text": [
      "\n",
      "At iterate   50    f= -1.65995D+00    |proj g|=  6.38869D-03\n",
      "\n",
      "           * * *\n",
      "\n",
      "Tit   = total number of iterations\n",
      "Tnf   = total number of function evaluations\n",
      "Tnint = total number of segments explored during Cauchy searches\n",
      "Skip  = number of BFGS updates skipped\n",
      "Nact  = number of active bounds at final generalized Cauchy point\n",
      "Projg = norm of the final projected gradient\n",
      "F     = final function value\n",
      "\n",
      "           * * *\n",
      "\n",
      "   N    Tit     Tnf  Tnint  Skip  Nact     Projg        F\n",
      "    8     50     64      1     0     0   6.389D-03  -1.660D+00\n",
      "  F =  -1.6599527097396980     \n",
      "\n",
      "STOP: TOTAL NO. of ITERATIONS REACHED LIMIT                 \n",
      "RUNNING THE L-BFGS-B CODE\n",
      "\n",
      "           * * *\n",
      "\n",
      "Machine precision = 2.220D-16\n",
      " N =            6     M =           10\n",
      "\n",
      "At X0         0 variables are exactly at the bounds\n",
      "\n",
      "At iterate    0    f= -1.43896D+00    |proj g|=  5.46324D+00\n"
     ]
    },
    {
     "name": "stderr",
     "output_type": "stream",
     "text": [
      " This problem is unconstrained.\n"
     ]
    },
    {
     "name": "stdout",
     "output_type": "stream",
     "text": [
      "\n",
      "At iterate    5    f= -1.48767D+00    |proj g|=  8.56893D-02\n",
      "\n",
      "At iterate   10    f= -1.48932D+00    |proj g|=  8.00289D-02\n",
      "\n",
      "At iterate   15    f= -1.48938D+00    |proj g|=  4.06313D-02\n",
      "\n",
      "At iterate   20    f= -1.48941D+00    |proj g|=  4.29846D-03\n",
      "\n",
      "At iterate   25    f= -1.48948D+00    |proj g|=  1.16292D-02\n",
      "\n",
      "At iterate   30    f= -1.49063D+00    |proj g|=  5.84588D-02\n",
      "\n",
      "At iterate   35    f= -1.50106D+00    |proj g|=  1.02670D+00\n",
      "\n",
      "At iterate   40    f= -1.51788D+00    |proj g|=  3.58398D-01\n",
      "\n",
      "At iterate   45    f= -1.52358D+00    |proj g|=  8.63759D-03\n"
     ]
    },
    {
     "name": "stderr",
     "output_type": "stream",
     "text": [
      "/Users/utsavacharya/Desktop/Projects/VoltVision/venv/lib/python3.10/site-packages/statsmodels/base/model.py:607: ConvergenceWarning: Maximum Likelihood optimization failed to converge. Check mle_retvals\n",
      "  warnings.warn(\"Maximum Likelihood optimization failed to \"\n"
     ]
    },
    {
     "name": "stdout",
     "output_type": "stream",
     "text": [
      "\n",
      "At iterate   50    f= -1.52497D+00    |proj g|=  3.32972D-02\n",
      "\n",
      "           * * *\n",
      "\n",
      "Tit   = total number of iterations\n",
      "Tnf   = total number of function evaluations\n",
      "Tnint = total number of segments explored during Cauchy searches\n",
      "Skip  = number of BFGS updates skipped\n",
      "Nact  = number of active bounds at final generalized Cauchy point\n",
      "Projg = norm of the final projected gradient\n",
      "F     = final function value\n",
      "\n",
      "           * * *\n",
      "\n",
      "   N    Tit     Tnf  Tnint  Skip  Nact     Projg        F\n",
      "    6     50     61      1     0     0   3.330D-02  -1.525D+00\n",
      "  F =  -1.5249744709174804     \n",
      "\n",
      "STOP: TOTAL NO. of ITERATIONS REACHED LIMIT                 \n"
     ]
    },
    {
     "name": "stderr",
     "output_type": "stream",
     "text": [
      " This problem is unconstrained.\n"
     ]
    },
    {
     "name": "stdout",
     "output_type": "stream",
     "text": [
      "RUNNING THE L-BFGS-B CODE\n",
      "\n",
      "           * * *\n",
      "\n",
      "Machine precision = 2.220D-16\n",
      " N =            7     M =           10\n",
      "\n",
      "At X0         0 variables are exactly at the bounds\n",
      "\n",
      "At iterate    0    f= -1.44968D+00    |proj g|=  5.77269D+00\n",
      "\n",
      "At iterate    5    f= -1.50531D+00    |proj g|=  1.07634D-01\n",
      "\n",
      "At iterate   10    f= -1.51266D+00    |proj g|=  1.13391D+00\n",
      "\n",
      "At iterate   15    f= -1.51447D+00    |proj g|=  7.26749D-01\n",
      "\n",
      "At iterate   20    f= -1.53943D+00    |proj g|=  3.42350D+00\n",
      "\n",
      "At iterate   25    f= -1.55334D+00    |proj g|=  1.77654D-01\n",
      "\n",
      "At iterate   30    f= -1.59955D+00    |proj g|=  1.23845D+00\n",
      "\n",
      "At iterate   35    f= -1.61150D+00    |proj g|=  8.61421D-01\n",
      "\n",
      "At iterate   40    f= -1.63520D+00    |proj g|=  3.44112D-01\n",
      "\n",
      "At iterate   45    f= -1.64245D+00    |proj g|=  6.64146D-01\n"
     ]
    },
    {
     "name": "stderr",
     "output_type": "stream",
     "text": [
      "/Users/utsavacharya/Desktop/Projects/VoltVision/venv/lib/python3.10/site-packages/statsmodels/base/model.py:607: ConvergenceWarning: Maximum Likelihood optimization failed to converge. Check mle_retvals\n",
      "  warnings.warn(\"Maximum Likelihood optimization failed to \"\n"
     ]
    },
    {
     "name": "stdout",
     "output_type": "stream",
     "text": [
      "\n",
      "At iterate   50    f= -1.64452D+00    |proj g|=  3.41338D-01\n",
      "\n",
      "           * * *\n",
      "\n",
      "Tit   = total number of iterations\n",
      "Tnf   = total number of function evaluations\n",
      "Tnint = total number of segments explored during Cauchy searches\n",
      "Skip  = number of BFGS updates skipped\n",
      "Nact  = number of active bounds at final generalized Cauchy point\n",
      "Projg = norm of the final projected gradient\n",
      "F     = final function value\n",
      "\n",
      "           * * *\n",
      "\n",
      "   N    Tit     Tnf  Tnint  Skip  Nact     Projg        F\n",
      "    7     50     57      1     0     0   3.413D-01  -1.645D+00\n",
      "  F =  -1.6445231170037544     \n",
      "\n",
      "STOP: TOTAL NO. of ITERATIONS REACHED LIMIT                 \n",
      "RUNNING THE L-BFGS-B CODE\n",
      "\n",
      "           * * *\n",
      "\n",
      "Machine precision = 2.220D-16\n",
      " N =            8     M =           10\n",
      "\n",
      "At X0         0 variables are exactly at the bounds\n",
      "\n",
      "At iterate    0    f= -1.49857D+00    |proj g|=  7.18521D+00\n"
     ]
    },
    {
     "name": "stderr",
     "output_type": "stream",
     "text": [
      " This problem is unconstrained.\n"
     ]
    },
    {
     "name": "stdout",
     "output_type": "stream",
     "text": [
      "\n",
      "At iterate    5    f= -1.59513D+00    |proj g|=  8.24097D-01\n",
      "\n",
      "At iterate   10    f= -1.60494D+00    |proj g|=  5.25313D-02\n",
      "\n",
      "At iterate   15    f= -1.60689D+00    |proj g|=  1.37533D+00\n",
      "\n",
      "At iterate   20    f= -1.61238D+00    |proj g|=  1.09357D-01\n",
      "\n",
      "At iterate   25    f= -1.61759D+00    |proj g|=  1.19291D+00\n",
      "\n",
      "At iterate   30    f= -1.63872D+00    |proj g|=  7.47499D-02\n",
      "\n",
      "At iterate   35    f= -1.64394D+00    |proj g|=  1.52241D-02\n",
      "\n",
      "At iterate   40    f= -1.64569D+00    |proj g|=  3.94400D-02\n",
      "\n",
      "At iterate   45    f= -1.64614D+00    |proj g|=  7.57910D-03\n"
     ]
    },
    {
     "name": "stderr",
     "output_type": "stream",
     "text": [
      "/Users/utsavacharya/Desktop/Projects/VoltVision/venv/lib/python3.10/site-packages/statsmodels/base/model.py:607: ConvergenceWarning: Maximum Likelihood optimization failed to converge. Check mle_retvals\n",
      "  warnings.warn(\"Maximum Likelihood optimization failed to \"\n"
     ]
    },
    {
     "name": "stdout",
     "output_type": "stream",
     "text": [
      "\n",
      "At iterate   50    f= -1.64883D+00    |proj g|=  4.09990D-01\n",
      "\n",
      "           * * *\n",
      "\n",
      "Tit   = total number of iterations\n",
      "Tnf   = total number of function evaluations\n",
      "Tnint = total number of segments explored during Cauchy searches\n",
      "Skip  = number of BFGS updates skipped\n",
      "Nact  = number of active bounds at final generalized Cauchy point\n",
      "Projg = norm of the final projected gradient\n",
      "F     = final function value\n",
      "\n",
      "           * * *\n",
      "\n",
      "   N    Tit     Tnf  Tnint  Skip  Nact     Projg        F\n",
      "    8     50     64      1     0     0   4.100D-01  -1.649D+00\n",
      "  F =  -1.6488300577835364     \n",
      "\n",
      "STOP: TOTAL NO. of ITERATIONS REACHED LIMIT                 \n"
     ]
    },
    {
     "name": "stderr",
     "output_type": "stream",
     "text": [
      " This problem is unconstrained.\n"
     ]
    },
    {
     "name": "stdout",
     "output_type": "stream",
     "text": [
      "RUNNING THE L-BFGS-B CODE\n",
      "\n",
      "           * * *\n",
      "\n",
      "Machine precision = 2.220D-16\n",
      " N =            6     M =           10\n",
      "\n",
      "At X0         0 variables are exactly at the bounds\n",
      "\n",
      "At iterate    0    f= -9.99426D-01    |proj g|=  5.13229D+00\n",
      "\n",
      "At iterate    5    f= -1.17722D+00    |proj g|=  1.29219D-01\n",
      "\n",
      "At iterate   10    f= -1.17822D+00    |proj g|=  1.36324D-02\n",
      "\n",
      "At iterate   15    f= -1.17827D+00    |proj g|=  2.66716D-02\n",
      "\n",
      "At iterate   20    f= -1.17827D+00    |proj g|=  2.59674D-03\n",
      "\n",
      "At iterate   25    f= -1.17829D+00    |proj g|=  3.18040D-02\n",
      "\n",
      "At iterate   30    f= -1.17854D+00    |proj g|=  4.84434D-02\n",
      "\n",
      "At iterate   35    f= -1.18273D+00    |proj g|=  1.21237D-01\n",
      "\n",
      "At iterate   40    f= -1.19235D+00    |proj g|=  1.57489D-01\n",
      "\n",
      "At iterate   45    f= -1.19682D+00    |proj g|=  3.18306D-01\n"
     ]
    },
    {
     "name": "stderr",
     "output_type": "stream",
     "text": [
      "/Users/utsavacharya/Desktop/Projects/VoltVision/venv/lib/python3.10/site-packages/statsmodels/base/model.py:607: ConvergenceWarning: Maximum Likelihood optimization failed to converge. Check mle_retvals\n",
      "  warnings.warn(\"Maximum Likelihood optimization failed to \"\n"
     ]
    },
    {
     "name": "stdout",
     "output_type": "stream",
     "text": [
      "\n",
      "At iterate   50    f= -1.21651D+00    |proj g|=  2.96448D-01\n",
      "\n",
      "           * * *\n",
      "\n",
      "Tit   = total number of iterations\n",
      "Tnf   = total number of function evaluations\n",
      "Tnint = total number of segments explored during Cauchy searches\n",
      "Skip  = number of BFGS updates skipped\n",
      "Nact  = number of active bounds at final generalized Cauchy point\n",
      "Projg = norm of the final projected gradient\n",
      "F     = final function value\n",
      "\n",
      "           * * *\n",
      "\n",
      "   N    Tit     Tnf  Tnint  Skip  Nact     Projg        F\n",
      "    6     50     66      1     0     0   2.964D-01  -1.217D+00\n",
      "  F =  -1.2165101946677888     \n",
      "\n",
      "STOP: TOTAL NO. of ITERATIONS REACHED LIMIT                 \n"
     ]
    },
    {
     "name": "stderr",
     "output_type": "stream",
     "text": [
      " This problem is unconstrained.\n"
     ]
    },
    {
     "name": "stdout",
     "output_type": "stream",
     "text": [
      "RUNNING THE L-BFGS-B CODE\n",
      "\n",
      "           * * *\n",
      "\n",
      "Machine precision = 2.220D-16\n",
      " N =            7     M =           10\n",
      "\n",
      "At X0         0 variables are exactly at the bounds\n",
      "\n",
      "At iterate    0    f= -1.03006D+00    |proj g|=  5.63612D+00\n",
      "\n",
      "At iterate    5    f= -1.27230D+00    |proj g|=  1.55458D+00\n",
      "\n",
      "At iterate   10    f= -1.32852D+00    |proj g|=  1.63912D-01\n",
      "\n",
      "At iterate   15    f= -1.35203D+00    |proj g|=  2.85318D+00\n",
      "\n",
      "At iterate   20    f= -1.41271D+00    |proj g|=  9.75823D-01\n",
      "\n",
      "At iterate   25    f= -1.44072D+00    |proj g|=  6.32235D-01\n",
      "\n",
      "At iterate   30    f= -1.46769D+00    |proj g|=  1.71830D+00\n",
      "\n",
      "At iterate   35    f= -1.48260D+00    |proj g|=  2.15553D-01\n",
      "\n",
      "At iterate   40    f= -1.48698D+00    |proj g|=  7.70341D-02\n",
      "\n",
      "At iterate   45    f= -1.48780D+00    |proj g|=  1.13504D-02\n"
     ]
    },
    {
     "name": "stderr",
     "output_type": "stream",
     "text": [
      "/Users/utsavacharya/Desktop/Projects/VoltVision/venv/lib/python3.10/site-packages/statsmodels/base/model.py:607: ConvergenceWarning: Maximum Likelihood optimization failed to converge. Check mle_retvals\n",
      "  warnings.warn(\"Maximum Likelihood optimization failed to \"\n"
     ]
    },
    {
     "name": "stdout",
     "output_type": "stream",
     "text": [
      "\n",
      "At iterate   50    f= -1.48810D+00    |proj g|=  7.98696D-02\n",
      "\n",
      "           * * *\n",
      "\n",
      "Tit   = total number of iterations\n",
      "Tnf   = total number of function evaluations\n",
      "Tnint = total number of segments explored during Cauchy searches\n",
      "Skip  = number of BFGS updates skipped\n",
      "Nact  = number of active bounds at final generalized Cauchy point\n",
      "Projg = norm of the final projected gradient\n",
      "F     = final function value\n",
      "\n",
      "           * * *\n",
      "\n",
      "   N    Tit     Tnf  Tnint  Skip  Nact     Projg        F\n",
      "    7     50     64      1     0     0   7.987D-02  -1.488D+00\n",
      "  F =  -1.4880951067951163     \n",
      "\n",
      "STOP: TOTAL NO. of ITERATIONS REACHED LIMIT                 \n",
      "RUNNING THE L-BFGS-B CODE\n",
      "\n",
      "           * * *\n",
      "\n",
      "Machine precision = 2.220D-16\n",
      " N =            8     M =           10\n",
      "\n",
      "At X0         0 variables are exactly at the bounds\n",
      "\n",
      "At iterate    0    f= -9.71323D-01    |proj g|=  4.67116D+00\n"
     ]
    },
    {
     "name": "stderr",
     "output_type": "stream",
     "text": [
      " This problem is unconstrained.\n"
     ]
    },
    {
     "name": "stdout",
     "output_type": "stream",
     "text": [
      "\n",
      "At iterate    5    f= -1.18888D+00    |proj g|=  5.54668D+00\n",
      "\n",
      "At iterate   10    f= -1.37492D+00    |proj g|=  1.36118D+00\n",
      "\n",
      "At iterate   15    f= -1.42706D+00    |proj g|=  1.70362D-01\n",
      "\n",
      "At iterate   20    f= -1.43308D+00    |proj g|=  2.86523D-01\n",
      "\n",
      "At iterate   25    f= -1.43932D+00    |proj g|=  1.43247D-01\n",
      "\n",
      "At iterate   30    f= -1.43946D+00    |proj g|=  2.30299D-02\n",
      "\n",
      "At iterate   35    f= -1.44331D+00    |proj g|=  8.73713D-01\n",
      "\n",
      "At iterate   40    f= -1.46331D+00    |proj g|=  2.99773D+00\n",
      "\n",
      "At iterate   45    f= -1.57385D+00    |proj g|=  1.07367D+00\n"
     ]
    },
    {
     "name": "stderr",
     "output_type": "stream",
     "text": [
      "/Users/utsavacharya/Desktop/Projects/VoltVision/venv/lib/python3.10/site-packages/statsmodels/base/model.py:607: ConvergenceWarning: Maximum Likelihood optimization failed to converge. Check mle_retvals\n",
      "  warnings.warn(\"Maximum Likelihood optimization failed to \"\n"
     ]
    },
    {
     "name": "stdout",
     "output_type": "stream",
     "text": [
      "\n",
      "At iterate   50    f= -1.62845D+00    |proj g|=  1.11082D+00\n",
      "\n",
      "           * * *\n",
      "\n",
      "Tit   = total number of iterations\n",
      "Tnf   = total number of function evaluations\n",
      "Tnint = total number of segments explored during Cauchy searches\n",
      "Skip  = number of BFGS updates skipped\n",
      "Nact  = number of active bounds at final generalized Cauchy point\n",
      "Projg = norm of the final projected gradient\n",
      "F     = final function value\n",
      "\n",
      "           * * *\n",
      "\n",
      "   N    Tit     Tnf  Tnint  Skip  Nact     Projg        F\n",
      "    8     50     71      1     0     0   1.111D+00  -1.628D+00\n",
      "  F =  -1.6284464705891577     \n",
      "\n",
      "STOP: TOTAL NO. of ITERATIONS REACHED LIMIT                 \n",
      "Best Seasonal Order: (1, 0, 2)\n"
     ]
    }
   ],
   "source": [
    "import itertools\n",
    "import statsmodels.api as sm\n",
    "import numpy as np\n",
    "\n",
    "\n",
    "seasonal_order_values = range(3) \n",
    "\n",
    "best_aic = np.inf\n",
    "best_seasonal_order = None\n",
    "\n",
    "for seasonal_order_candidate in itertools.product(seasonal_order_values, repeat=3):\n",
    "    p, d, q = (2, 1, 1)\n",
    "    P, D, Q = seasonal_order_candidate\n",
    "    m = 7 \n",
    "\n",
    "    sarima_model = sm.tsa.SARIMAX(df_train, order=(p, d, q), seasonal_order=(P, D, Q, m))\n",
    "    sarima_result = sarima_model.fit()\n",
    "\n",
    "    current_aic = sarima_result.aic\n",
    "\n",
    "    if current_aic < best_aic:\n",
    "        best_aic = current_aic\n",
    "        best_seasonal_order = (P, D, Q)\n",
    "\n",
    "print(\"Best Seasonal Order:\", best_seasonal_order)\n"
   ]
  },
  {
   "cell_type": "code",
   "execution_count": 37,
   "metadata": {},
   "outputs": [
    {
     "name": "stderr",
     "output_type": "stream",
     "text": [
      "/Users/utsavacharya/Desktop/Projects/VoltVision/venv/lib/python3.10/site-packages/statsmodels/tsa/statespace/sarimax.py:966: UserWarning: Non-stationary starting autoregressive parameters found. Using zeros as starting parameters.\n",
      "  warn('Non-stationary starting autoregressive parameters'\n",
      "/Users/utsavacharya/Desktop/Projects/VoltVision/venv/lib/python3.10/site-packages/statsmodels/tsa/statespace/sarimax.py:978: UserWarning: Non-invertible starting MA parameters found. Using zeros as starting parameters.\n",
      "  warn('Non-invertible starting MA parameters found.'\n",
      " This problem is unconstrained.\n"
     ]
    },
    {
     "name": "stdout",
     "output_type": "stream",
     "text": [
      "RUNNING THE L-BFGS-B CODE\n",
      "\n",
      "           * * *\n",
      "\n",
      "Machine precision = 2.220D-16\n",
      " N =            7     M =           10\n",
      "\n",
      "At X0         0 variables are exactly at the bounds\n",
      "\n",
      "At iterate    0    f= -1.64313D+00    |proj g|=  9.07507D-02\n",
      "\n",
      "At iterate    5    f= -1.64558D+00    |proj g|=  1.74064D-02\n",
      "\n",
      "At iterate   10    f= -1.64568D+00    |proj g|=  1.54254D-03\n",
      "\n",
      "At iterate   15    f= -1.64568D+00    |proj g|=  8.37128D-03\n",
      "\n",
      "At iterate   20    f= -1.64575D+00    |proj g|=  3.42860D-02\n",
      "\n",
      "At iterate   25    f= -1.64986D+00    |proj g|=  5.52404D-01\n",
      "\n",
      "At iterate   30    f= -1.65761D+00    |proj g|=  9.39049D-02\n",
      "\n",
      "At iterate   35    f= -1.66064D+00    |proj g|=  1.89303D-01\n",
      "\n",
      "At iterate   40    f= -1.66150D+00    |proj g|=  6.43809D-02\n",
      "\n",
      "At iterate   45    f= -1.66238D+00    |proj g|=  2.96115D-02\n"
     ]
    },
    {
     "name": "stderr",
     "output_type": "stream",
     "text": [
      "/Users/utsavacharya/Desktop/Projects/VoltVision/venv/lib/python3.10/site-packages/statsmodels/base/model.py:607: ConvergenceWarning: Maximum Likelihood optimization failed to converge. Check mle_retvals\n",
      "  warnings.warn(\"Maximum Likelihood optimization failed to \"\n"
     ]
    },
    {
     "name": "stdout",
     "output_type": "stream",
     "text": [
      "\n",
      "At iterate   50    f= -1.66255D+00    |proj g|=  4.55314D-02\n",
      "\n",
      "           * * *\n",
      "\n",
      "Tit   = total number of iterations\n",
      "Tnf   = total number of function evaluations\n",
      "Tnint = total number of segments explored during Cauchy searches\n",
      "Skip  = number of BFGS updates skipped\n",
      "Nact  = number of active bounds at final generalized Cauchy point\n",
      "Projg = norm of the final projected gradient\n",
      "F     = final function value\n",
      "\n",
      "           * * *\n",
      "\n",
      "   N    Tit     Tnf  Tnint  Skip  Nact     Projg        F\n",
      "    7     50     67      1     0     0   4.553D-02  -1.663D+00\n",
      "  F =  -1.6625453413499873     \n",
      "\n",
      "STOP: TOTAL NO. of ITERATIONS REACHED LIMIT                 \n"
     ]
    }
   ],
   "source": [
    "sarima_model = sm.tsa.SARIMAX(df_train, order=(2, 1, 1), seasonal_order=(1, 0, 2, 7))\n",
    "sarima_result = sarima_model.fit()"
   ]
  },
  {
   "cell_type": "code",
   "execution_count": 38,
   "metadata": {},
   "outputs": [
    {
     "data": {
      "text/html": [
       "<table class=\"simpletable\">\n",
       "<caption>SARIMAX Results</caption>\n",
       "<tr>\n",
       "  <th>Dep. Variable:</th>                    <td>y</td>                 <th>  No. Observations:  </th>    <td>27860</td>  \n",
       "</tr>\n",
       "<tr>\n",
       "  <th>Model:</th>           <td>SARIMAX(2, 1, 1)x(1, 0, [1, 2], 7)</td> <th>  Log Likelihood     </th>  <td>46318.513</td>\n",
       "</tr>\n",
       "<tr>\n",
       "  <th>Date:</th>                     <td>Thu, 18 Jan 2024</td>          <th>  AIC                </th> <td>-92623.026</td>\n",
       "</tr>\n",
       "<tr>\n",
       "  <th>Time:</th>                         <td>21:55:32</td>              <th>  BIC                </th> <td>-92565.382</td>\n",
       "</tr>\n",
       "<tr>\n",
       "  <th>Sample:</th>                           <td>0</td>                 <th>  HQIC               </th> <td>-92604.465</td>\n",
       "</tr>\n",
       "<tr>\n",
       "  <th></th>                              <td> - 27860</td>              <th>                     </th>      <td> </td>    \n",
       "</tr>\n",
       "<tr>\n",
       "  <th>Covariance Type:</th>                 <td>opg</td>                <th>                     </th>      <td> </td>    \n",
       "</tr>\n",
       "</table>\n",
       "<table class=\"simpletable\">\n",
       "<tr>\n",
       "      <td></td>        <th>coef</th>     <th>std err</th>      <th>z</th>      <th>P>|z|</th>  <th>[0.025</th>    <th>0.975]</th>  \n",
       "</tr>\n",
       "<tr>\n",
       "  <th>ar.L1</th>    <td>    0.9922</td> <td>    0.003</td> <td>  389.160</td> <td> 0.000</td> <td>    0.987</td> <td>    0.997</td>\n",
       "</tr>\n",
       "<tr>\n",
       "  <th>ar.L2</th>    <td>   -0.0668</td> <td>    0.002</td> <td>  -31.509</td> <td> 0.000</td> <td>   -0.071</td> <td>   -0.063</td>\n",
       "</tr>\n",
       "<tr>\n",
       "  <th>ma.L1</th>    <td>   -0.9969</td> <td>    0.000</td> <td>-2459.163</td> <td> 0.000</td> <td>   -0.998</td> <td>   -0.996</td>\n",
       "</tr>\n",
       "<tr>\n",
       "  <th>ar.S.L7</th>  <td>   -0.9910</td> <td>    0.002</td> <td> -568.471</td> <td> 0.000</td> <td>   -0.994</td> <td>   -0.988</td>\n",
       "</tr>\n",
       "<tr>\n",
       "  <th>ma.S.L7</th>  <td>    0.9292</td> <td>    0.004</td> <td>  245.963</td> <td> 0.000</td> <td>    0.922</td> <td>    0.937</td>\n",
       "</tr>\n",
       "<tr>\n",
       "  <th>ma.S.L14</th> <td>   -0.0662</td> <td>    0.004</td> <td>  -18.849</td> <td> 0.000</td> <td>   -0.073</td> <td>   -0.059</td>\n",
       "</tr>\n",
       "<tr>\n",
       "  <th>sigma2</th>   <td>    0.0021</td> <td> 5.54e-06</td> <td>  379.213</td> <td> 0.000</td> <td>    0.002</td> <td>    0.002</td>\n",
       "</tr>\n",
       "</table>\n",
       "<table class=\"simpletable\">\n",
       "<tr>\n",
       "  <th>Ljung-Box (L1) (Q):</th>     <td>0.21</td>  <th>  Jarque-Bera (JB):  </th> <td>1856155.45</td>\n",
       "</tr>\n",
       "<tr>\n",
       "  <th>Prob(Q):</th>                <td>0.65</td>  <th>  Prob(JB):          </th>    <td>0.00</td>   \n",
       "</tr>\n",
       "<tr>\n",
       "  <th>Heteroskedasticity (H):</th> <td>51.80</td> <th>  Skew:              </th>    <td>-0.47</td>  \n",
       "</tr>\n",
       "<tr>\n",
       "  <th>Prob(H) (two-sided):</th>    <td>0.00</td>  <th>  Kurtosis:          </th>    <td>42.98</td>  \n",
       "</tr>\n",
       "</table><br/><br/>Warnings:<br/>[1] Covariance matrix calculated using the outer product of gradients (complex-step)."
      ],
      "text/latex": [
       "\\begin{center}\n",
       "\\begin{tabular}{lclc}\n",
       "\\toprule\n",
       "\\textbf{Dep. Variable:}          &                 y                  & \\textbf{  No. Observations:  } &   27860     \\\\\n",
       "\\textbf{Model:}                  & SARIMAX(2, 1, 1)x(1, 0, [1, 2], 7) & \\textbf{  Log Likelihood     } & 46318.513   \\\\\n",
       "\\textbf{Date:}                   &          Thu, 18 Jan 2024          & \\textbf{  AIC                } & -92623.026  \\\\\n",
       "\\textbf{Time:}                   &              21:55:32              & \\textbf{  BIC                } & -92565.382  \\\\\n",
       "\\textbf{Sample:}                 &                 0                  & \\textbf{  HQIC               } & -92604.465  \\\\\n",
       "\\textbf{}                        &               - 27860              & \\textbf{                     } &             \\\\\n",
       "\\textbf{Covariance Type:}        &                opg                 & \\textbf{                     } &             \\\\\n",
       "\\bottomrule\n",
       "\\end{tabular}\n",
       "\\begin{tabular}{lcccccc}\n",
       "                  & \\textbf{coef} & \\textbf{std err} & \\textbf{z} & \\textbf{P$> |$z$|$} & \\textbf{[0.025} & \\textbf{0.975]}  \\\\\n",
       "\\midrule\n",
       "\\textbf{ar.L1}    &       0.9922  &        0.003     &   389.160  &         0.000        &        0.987    &        0.997     \\\\\n",
       "\\textbf{ar.L2}    &      -0.0668  &        0.002     &   -31.509  &         0.000        &       -0.071    &       -0.063     \\\\\n",
       "\\textbf{ma.L1}    &      -0.9969  &        0.000     & -2459.163  &         0.000        &       -0.998    &       -0.996     \\\\\n",
       "\\textbf{ar.S.L7}  &      -0.9910  &        0.002     &  -568.471  &         0.000        &       -0.994    &       -0.988     \\\\\n",
       "\\textbf{ma.S.L7}  &       0.9292  &        0.004     &   245.963  &         0.000        &        0.922    &        0.937     \\\\\n",
       "\\textbf{ma.S.L14} &      -0.0662  &        0.004     &   -18.849  &         0.000        &       -0.073    &       -0.059     \\\\\n",
       "\\textbf{sigma2}   &       0.0021  &     5.54e-06     &   379.213  &         0.000        &        0.002    &        0.002     \\\\\n",
       "\\bottomrule\n",
       "\\end{tabular}\n",
       "\\begin{tabular}{lclc}\n",
       "\\textbf{Ljung-Box (L1) (Q):}     &  0.21 & \\textbf{  Jarque-Bera (JB):  } & 1856155.45  \\\\\n",
       "\\textbf{Prob(Q):}                &  0.65 & \\textbf{  Prob(JB):          } &    0.00     \\\\\n",
       "\\textbf{Heteroskedasticity (H):} & 51.80 & \\textbf{  Skew:              } &   -0.47     \\\\\n",
       "\\textbf{Prob(H) (two-sided):}    &  0.00 & \\textbf{  Kurtosis:          } &   42.98     \\\\\n",
       "\\bottomrule\n",
       "\\end{tabular}\n",
       "%\\caption{SARIMAX Results}\n",
       "\\end{center}\n",
       "\n",
       "Warnings: \\newline\n",
       " [1] Covariance matrix calculated using the outer product of gradients (complex-step)."
      ],
      "text/plain": [
       "<class 'statsmodels.iolib.summary.Summary'>\n",
       "\"\"\"\n",
       "                                       SARIMAX Results                                        \n",
       "==============================================================================================\n",
       "Dep. Variable:                                      y   No. Observations:                27860\n",
       "Model:             SARIMAX(2, 1, 1)x(1, 0, [1, 2], 7)   Log Likelihood               46318.513\n",
       "Date:                                Thu, 18 Jan 2024   AIC                         -92623.026\n",
       "Time:                                        21:55:32   BIC                         -92565.382\n",
       "Sample:                                             0   HQIC                        -92604.465\n",
       "                                              - 27860                                         \n",
       "Covariance Type:                                  opg                                         \n",
       "==============================================================================\n",
       "                 coef    std err          z      P>|z|      [0.025      0.975]\n",
       "------------------------------------------------------------------------------\n",
       "ar.L1          0.9922      0.003    389.160      0.000       0.987       0.997\n",
       "ar.L2         -0.0668      0.002    -31.509      0.000      -0.071      -0.063\n",
       "ma.L1         -0.9969      0.000  -2459.163      0.000      -0.998      -0.996\n",
       "ar.S.L7       -0.9910      0.002   -568.471      0.000      -0.994      -0.988\n",
       "ma.S.L7        0.9292      0.004    245.963      0.000       0.922       0.937\n",
       "ma.S.L14      -0.0662      0.004    -18.849      0.000      -0.073      -0.059\n",
       "sigma2         0.0021   5.54e-06    379.213      0.000       0.002       0.002\n",
       "===================================================================================\n",
       "Ljung-Box (L1) (Q):                   0.21   Jarque-Bera (JB):           1856155.45\n",
       "Prob(Q):                              0.65   Prob(JB):                         0.00\n",
       "Heteroskedasticity (H):              51.80   Skew:                            -0.47\n",
       "Prob(H) (two-sided):                  0.00   Kurtosis:                        42.98\n",
       "===================================================================================\n",
       "\n",
       "Warnings:\n",
       "[1] Covariance matrix calculated using the outer product of gradients (complex-step).\n",
       "\"\"\""
      ]
     },
     "execution_count": 38,
     "metadata": {},
     "output_type": "execute_result"
    }
   ],
   "source": [
    "sarima_result.summary()"
   ]
  },
  {
   "cell_type": "code",
   "execution_count": 39,
   "metadata": {},
   "outputs": [],
   "source": [
    "df_predict = sarima_result.predict(start=len(df_train), end=len(df_price)-1)"
   ]
  },
  {
   "cell_type": "code",
   "execution_count": 49,
   "metadata": {},
   "outputs": [],
   "source": [
    "from sklearn.metrics import mean_squared_error"
   ]
  },
  {
   "cell_type": "code",
   "execution_count": 51,
   "metadata": {},
   "outputs": [
    {
     "data": {
      "text/plain": [
       "0.0041105077943358196"
      ]
     },
     "execution_count": 51,
     "metadata": {},
     "output_type": "execute_result"
    }
   ],
   "source": [
    "mean_squared_error(df_test, df_predict)"
   ]
  }
 ],
 "metadata": {
  "kernelspec": {
   "display_name": "Python 3 (ipykernel)",
   "language": "python",
   "name": "python3"
  },
  "language_info": {
   "codemirror_mode": {
    "name": "ipython",
    "version": 3
   },
   "file_extension": ".py",
   "mimetype": "text/x-python",
   "name": "python",
   "nbconvert_exporter": "python",
   "pygments_lexer": "ipython3",
   "version": "3.10.12"
  }
 },
 "nbformat": 4,
 "nbformat_minor": 4
}
